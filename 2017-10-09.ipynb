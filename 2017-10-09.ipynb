{
 "cells": [
  {
   "cell_type": "markdown",
   "metadata": {},
   "source": [
    "# Fonctions\n",
    "\n",
    "Écrire un algorithme sous forme de fonction permet de le réutiliser dans un autre algorithme (sans nécessiter de copier-coller ni d'adaptation particulière).\n",
    "\n",
    "En général, les entrées d'une fonction ne proviennent pas du clavier mais sont *passées en paramètre* (entre les parenthèses), et ses sorties ne sont pas affichées à l'écran mais *retournées* à l'algorithme appelant.\n",
    "\n",
    "Exemples :"
   ]
  },
  {
   "cell_type": "code",
   "execution_count": 8,
   "metadata": {
    "collapsed": true
   },
   "outputs": [],
   "source": [
    "def racine_carrée(x):\n",
    "    \"\"\"\n",
    "    :entrée x: float\n",
    "    :pré-cond: x ≥ 1\n",
    "    :sortie r: float\n",
    "    :post-cond: r = √x\n",
    "    \"\"\"\n",
    "    bmin = 1\n",
    "    bmax = x\n",
    "    while bmax-bmin>0.001:\n",
    "        milieu = (bmin+bmax)/2\n",
    "        if milieu*milieu < x:\n",
    "            bmin = milieu\n",
    "        else:\n",
    "            if x < milieu*milieu:\n",
    "                bmax = milieu\n",
    "            else: # x == milieu*milieu\n",
    "                bmin = bmax = milieu\n",
    "    r = bmin\n",
    "    return r\n"
   ]
  },
  {
   "cell_type": "code",
   "execution_count": 13,
   "metadata": {},
   "outputs": [
    {
     "name": "stdout",
     "output_type": "stream",
     "text": [
      "xa ? 1\n",
      "ya ? 1\n",
      "xb ? 2\n",
      "yb ? 2\n",
      "1.4140625\n"
     ]
    }
   ],
   "source": [
    "def distance(x1,y1,x2,y2):\n",
    "    \"\"\"\n",
    "    :entrée x1,y1,x2,y2: float\n",
    "    :sortie d: float\n",
    "    :post-cond: d est la distance entre les points (x1,y1) et (x2,y2)\n",
    "    \"\"\"\n",
    "    d = racine_carrée((x1-x2)*(x1-x2) + (y1-y2)*(y1-y2))\n",
    "    return d\n",
    "\n",
    "xa = float(input(\"xa ? \"))\n",
    "ya = float(input(\"ya ? \"))\n",
    "xb = float(input(\"xb ? \"))\n",
    "yb = float(input(\"yb ? \"))\n",
    "d = distance(xb, yb, xa, ya)\n",
    "print(d)   \n"
   ]
  },
  {
   "cell_type": "markdown",
   "metadata": {},
   "source": [
    "## Spécification (contrat) des fonctions que vous avez déjà utilisées"
   ]
  },
  {
   "cell_type": "code",
   "execution_count": 16,
   "metadata": {},
   "outputs": [
    {
     "name": "stdout",
     "output_type": "stream",
     "text": [
      "3 1\n"
     ]
    }
   ],
   "source": [
    "# input\n",
    "\"\"\"\n",
    ":entrée message: texte\n",
    ":entrée in: texte SAISI AU CLAVIER\n",
    ":sortie out: texte\n",
    ":post-cond: in === out\n",
    "\"\"\"\n",
    "\n",
    "# print\n",
    "\"\"\"\n",
    ":entrée in: n'importe quoi\n",
    ":sortie out: texte AFFICHÉ À L'ÉCRAN\n",
    ":post-cond: out est une représentation de in\n",
    "\"\"\"\n",
    "\n",
    "# float\n",
    "\"\"\"\n",
    ":entrée txt: texte\n",
    ":pré-conf: txt doit être une représentation valide d'un nombre\n",
    ":sortie f: float\n",
    ":post-cond: f est le nombre représenté par txt\n",
    "\"\"\"\n",
    "\n",
    "# divmod\n",
    "\"\"\"\n",
    ":entrée a, b: int\n",
    ":pré-cond: b≠0\n",
    ":sortie q, r: int\n",
    ":post-cond: q est le quotient de la division euclidienne de a par b\n",
    "            r est le reste    de la division euclidienne de a par b\n",
    "\"\"\"\n",
    "\n",
    "toto, tata = divmod(10,3)\n",
    "print(toto, tata)"
   ]
  },
  {
   "cell_type": "markdown",
   "metadata": {},
   "source": [
    "## Appel de fonction et variables locales\n",
    "\n",
    "Toutes les variables à l'intérieur d'une fonction (y compris ses paramètres d'entrée et de sortie) sont appelés des variables *locales*. Elles n'existent qu'à l'intérieur de la fonction. Même si une variable de même nom existe à l'extérieur de la fonction (par exemple dans l'algorithme appelant), elles sont considérées comme deux variables différents.\n",
    "\n",
    "Exemple:"
   ]
  },
  {
   "cell_type": "code",
   "execution_count": 19,
   "metadata": {
    "collapsed": true
   },
   "outputs": [],
   "source": [
    "def factorielle(n):\n",
    "    \"\"\"\n",
    "    :entrée n: int\n",
    "    :pré-cond: n ≥ 0\n",
    "    :sortie f: int\n",
    "    :post-cond: f = n! = 1x2x3...xn\n",
    "    \"\"\"\n",
    "    f = 1\n",
    "    i = 2\n",
    "    while i <= n:\n",
    "        f = f*i\n",
    "        i = i+1\n",
    "    return f\n",
    "\n"
   ]
  },
  {
   "cell_type": "code",
   "execution_count": 32,
   "metadata": {},
   "outputs": [
    {
     "name": "stdout",
     "output_type": "stream",
     "text": [
      "1\n",
      "1\n",
      "2\n",
      "6\n",
      "24\n"
     ]
    }
   ],
   "source": [
    "def affiche_factorielles(n):\n",
    "    \"\"\"\n",
    "    :entrée n: int\n",
    "    :pré-cond: n > 0\n",
    "    :sortie: ÉCRAN\n",
    "    :post-cond: afficher les factorielles des n premiers entiers\n",
    "                (en partant de 0) dans l'ordre croissant\n",
    "    \"\"\"\n",
    "    i = 0\n",
    "    while i<n:\n",
    "        print(factorielle(i))\n",
    "        i = i+1\n",
    "\n",
    "affiche_factorielles(5)"
   ]
  },
  {
   "cell_type": "markdown",
   "metadata": {},
   "source": [
    "Trace d'exécution:\n",
    "```\n",
    "affiche_factorielle:\n",
    "#9  n=5  i=?\n",
    "#11 n=5  i=0\n",
    "  factorielle\n",
    "  #8   n=0  i=?  f=?\n",
    "  #10  n=0  i=2  f=1\n",
    "  #13  n=0  i=2  f=1\n",
    "  retourne 1\n",
    "#11 n=5  i=1\n",
    "  factorielle\n",
    "  #8   n=1  i=?  f=?\n",
    "  #10  n=1  i=2  f=1\n",
    "  #13  n=1  i=2  f=1\n",
    "  retourne 1\n",
    "#11 n=5  i=2\n",
    "  factorielle\n",
    "  #8   n=2  i=?  f=?\n",
    "  #10  n=2  i=2  f=1\n",
    "  #10  n=2  i=3  f=2\n",
    "  #13  n=2  i=3  f=2\n",
    "  retourne 2\n",
    "#11 n=5  i=2\n",
    "  factorielle\n",
    "  #8   n=2  i=?  f=?\n",
    "  #10  n=2  i=2  f=1\n",
    "  #10  n=2  i=3  f=2\n",
    "  #13  n=2  i=3  f=2\n",
    "  retourne 2\n",
    "#11 n=5  i=3\n",
    "  factorielle\n",
    "  #8   n=3  i=?  f=?\n",
    "  #10  n=3  i=2  f=1\n",
    "  #10  n=3  i=3  f=2\n",
    "  #10  n=3  i=4  f=6\n",
    "  #13  n=3  i=4  f=6\n",
    "  retourne 6\n",
    "#11 n=5  i=4\n",
    "  factorielle\n",
    "  #8   n=4  i=?  f=?\n",
    "  #10  n=4  i=2  f=1\n",
    "  #10  n=4  i=3  f=2\n",
    "  #10  n=4  i=4  f=6\n",
    "  #10  n=4  i=5  f=24\n",
    "  #13  n=4  i=5  f=24\n",
    "  retourne 24\n",
    "#11 n=5  i=5\n",
    "#13 n=5  i=5\n",
    "```\n",
    "\n",
    "On note que la longueur de la trace de `affiche_factorielles` ne dépend de la longueur des traces successives de `factorielle`. La taille *totale* de la trace est proportionnelle à 1+2+...+n, soit $\\frac{n(n+1)}{2}$. La complexité de `affiche_factorielles` est donc 𝓞(n²)."
   ]
  }
 ],
 "metadata": {
  "kernelspec": {
   "display_name": "Python 3",
   "language": "python",
   "name": "python3"
  },
  "language_info": {
   "codemirror_mode": {
    "name": "ipython",
    "version": 3
   },
   "file_extension": ".py",
   "mimetype": "text/x-python",
   "name": "python",
   "nbconvert_exporter": "python",
   "pygments_lexer": "ipython3",
   "version": "3.5.3"
  }
 },
 "nbformat": 4,
 "nbformat_minor": 2
}
