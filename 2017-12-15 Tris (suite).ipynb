{
 "cells": [
  {
   "cell_type": "code",
   "execution_count": 1,
   "metadata": {},
   "outputs": [],
   "source": [
    "from numpy import *"
   ]
  },
  {
   "cell_type": "code",
   "execution_count": 2,
   "metadata": {},
   "outputs": [
    {
     "name": "stdout",
     "output_type": "stream",
     "text": [
      "[  1.   9.   3.  14.   7.   9.]\n",
      "[  1.   3.   7.   9.   9.  14.]\n"
     ]
    }
   ],
   "source": [
    "def insere_dernier(t):\n",
    "    \"\"\"\n",
    "    :entrée-sortie t: tableau de float\n",
    "    :pré-cond: t est trié de la première à l'avant-dernière case\n",
    "    :post-cond: t est totalement trié\n",
    "    \"\"\"\n",
    "    vi = t[len(t)-1] # valeur à insérer\n",
    "    i = len(t)-2\n",
    "    while i >= 0  and  t[i] > vi:\n",
    "        t[i+1] = t[i]\n",
    "        i = i-1\n",
    "    t[i+1] = vi\n",
    "    \n",
    "def tri_insertion(t):\n",
    "    \"\"\"\n",
    "    :entrée-sortie t: tableau de float\n",
    "    :post-cond: t est trié\n",
    "    \"\"\"\n",
    "    l = 2\n",
    "    while l <= len(t):\n",
    "        insere_dernier(t[:l])\n",
    "        l = l+1\n",
    "\n",
    "a = array([1.0, 9.0, 3.0, 14.0, 7.0, 9.0])\n",
    "print(a)\n",
    "tri_insertion(a)\n",
    "print(a)\n"
   ]
  },
  {
   "cell_type": "code",
   "execution_count": 3,
   "metadata": {},
   "outputs": [
    {
     "name": "stdout",
     "output_type": "stream",
     "text": [
      "[ 99.   8.   3.   6.  14.   7.   9.]\n",
      "[  3.   6.   7.   8.   9.  14.  99.]\n"
     ]
    }
   ],
   "source": [
    "def quick_sort(t):\n",
    "    \"\"\"\n",
    "    :entrée-sortie t: tableau de float\n",
    "    :post-cond: t est trié\n",
    "    \"\"\"\n",
    "    if len(t) < 2:\n",
    "        pass\n",
    "    else:\n",
    "        ipivot = partitionne(t)\n",
    "        quick_sort(t[:ipivot])\n",
    "        quick_sort(t[ipivot+1:])\n",
    "    \n",
    "def partitionne(t):\n",
    "    \"\"\"\n",
    "    :entrée-sortie t: tableau de float\n",
    "    :pré-cond: len(t) > 1:\n",
    "    :sortie ip: int\n",
    "    :post-cond: les valeurs de t ont changé de place\n",
    "                t[:ip] ne contient que des valeurs <= t[ip]\n",
    "                t[ip+1:] ne contient que des valeurs > t[ip]\n",
    "    \"\"\"\n",
    "    p = t[0]\n",
    "    i = 1\n",
    "    j = len(t)-1\n",
    "    while i <= j:\n",
    "        while i <= j  and  t[i] <= p:\n",
    "            i = i+1\n",
    "        while j >= i  and t[j] > p:\n",
    "            j = j-1\n",
    "        if i < j:\n",
    "            tmp = t[i]\n",
    "            t[i] = t[j]\n",
    "            t[j] = tmp\n",
    "    t[0] = t[j]\n",
    "    t[j] = p\n",
    "    return j\n",
    "\n",
    "a = array([99.0, 8.0, 3.0, 6.0, 14.0, 7.0, 9.0])\n",
    "print(a)\n",
    "quick_sort(a)\n",
    "print(a)"
   ]
  }
 ],
 "metadata": {
  "kernelspec": {
   "display_name": "Python 3",
   "language": "python",
   "name": "python3"
  },
  "language_info": {
   "codemirror_mode": {
    "name": "ipython",
    "version": 3
   },
   "file_extension": ".py",
   "mimetype": "text/x-python",
   "name": "python",
   "nbconvert_exporter": "python",
   "pygments_lexer": "ipython3",
   "version": "3.6.3"
  }
 },
 "nbformat": 4,
 "nbformat_minor": 2
}
