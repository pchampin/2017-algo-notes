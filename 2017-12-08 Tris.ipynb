{
 "cells": [
  {
   "cell_type": "code",
   "execution_count": 1,
   "metadata": {},
   "outputs": [
    {
     "name": "stdout",
     "output_type": "stream",
     "text": [
      "3\n"
     ]
    }
   ],
   "source": [
    "from numpy import *\n",
    "\n",
    "def incide_max(t):\n",
    "    \"\"\"\n",
    "    :entrée t: tableau de float\n",
    "    :pré-cond: len(t) > 0\n",
    "    :sortie im: int\n",
    "    :post-cond: t[im] est la plus grande valeur de t\n",
    "    \"\"\"\n",
    "    im = 0\n",
    "    i = 1\n",
    "    while i < len(t):\n",
    "        if t[i] > t[im]:\n",
    "            im = i\n",
    "        i = i+1\n",
    "    return im\n",
    "\n",
    "# version récurive\n",
    "def indice_max(t):\n",
    "    if len(t) == 1:\n",
    "        im = 0\n",
    "    else:\n",
    "        im = indice_max(t[:len(t)-1])\n",
    "        if t[len(t)-1] > t[im]:\n",
    "            im = len(t)-1\n",
    "    return im\n",
    "\n",
    "print( indice_max(array([1.0, 9.0, 3.0, 14.0, 7.0, 9.0])) )"
   ]
  },
  {
   "cell_type": "code",
   "execution_count": 2,
   "metadata": {},
   "outputs": [
    {
     "name": "stdout",
     "output_type": "stream",
     "text": [
      "[  1.   9.   3.  14.   7.   9.]\n",
      "[  1.   3.   7.   9.   9.  14.]\n"
     ]
    }
   ],
   "source": [
    "def tri_selection(t):\n",
    "    \"\"\"\n",
    "    :entrée-sortie t: tableau de float\n",
    "    :post-cond: t est trié\n",
    "    \"\"\"\n",
    "    l = len(t)\n",
    "    while l > 1:\n",
    "        imax = indice_max(t[:l])\n",
    "        tmp = t[l-1]\n",
    "        t[l-1] = t[imax]\n",
    "        t[imax] = tmp\n",
    "        l = l-1\n",
    "        \n",
    "# version récursive\n",
    "def tri_selection(t):\n",
    "    if len(t) < 2:\n",
    "        pass\n",
    "    else:\n",
    "        imax = indice_max(t)\n",
    "        tmp = t[len(t)-1]\n",
    "        t[len(t)-1] = t[imax]\n",
    "        t[imax] = tmp\n",
    "        tri_selection(t[:len(t)-1])\n",
    "        \n",
    "a = array([1.0, 9.0, 3.0, 14.0, 7.0, 9.0])\n",
    "print(a)\n",
    "tri_selection(a)\n",
    "print(a)"
   ]
  },
  {
   "cell_type": "code",
   "execution_count": 3,
   "metadata": {},
   "outputs": [],
   "source": [
    "def insere_dernier(t):\n",
    "    \"\"\"\n",
    "    :entrée-sortie t: tableau de float\n",
    "    :pré-cond: t est trié de la première à l'avant-dernière case\n",
    "    :post-cond: t est totalement trié\n",
    "    \"\"\"\n",
    "    \n",
    "def tri_insertion(t):\n",
    "    \"\"\"\n",
    "    :entrée-sortie t: tableau de float\n",
    "    :post-cond: t est trié\n",
    "    \"\"\"\n",
    "    l = 2\n",
    "    while l < len(t):\n",
    "        insere_dernier(t[:l])\n",
    "        l = l+1\n"
   ]
  }
 ],
 "metadata": {
  "kernelspec": {
   "display_name": "Python 3",
   "language": "python",
   "name": "python3"
  },
  "language_info": {
   "codemirror_mode": {
    "name": "ipython",
    "version": 3
   },
   "file_extension": ".py",
   "mimetype": "text/x-python",
   "name": "python",
   "nbconvert_exporter": "python",
   "pygments_lexer": "ipython3",
   "version": "3.6.3"
  }
 },
 "nbformat": 4,
 "nbformat_minor": 2
}
