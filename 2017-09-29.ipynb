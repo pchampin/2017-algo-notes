{
 "cells": [
  {
   "cell_type": "code",
   "execution_count": 3,
   "metadata": {},
   "outputs": [
    {
     "name": "stdout",
     "output_type": "stream",
     "text": [
      "n ? 123\n",
      "3\n"
     ]
    }
   ],
   "source": [
    "# :entrée n: int\n",
    "# :pré-condition: n > 0\n",
    "# :sortie nb_chiffres: int\n",
    "# :post-condition: nb_chiffres est le nombre de chiffres\n",
    "#   qui servent à écrire n (en base 10)\n",
    "\n",
    "n = int(input(\"n ? \"))\n",
    "nb_chiffres = 0\n",
    "while n > 0:\n",
    "    nb_chiffres = nb_chiffres + 1\n",
    "    n = n//10\n",
    "print(nb_chiffres)"
   ]
  },
  {
   "cell_type": "code",
   "execution_count": 6,
   "metadata": {},
   "outputs": [
    {
     "name": "stdout",
     "output_type": "stream",
     "text": [
      "n ? 5\n",
      "120\n"
     ]
    }
   ],
   "source": [
    "# :entrée n: int\n",
    "# :pré-condition: n >= 0\n",
    "# :sortie f: int\n",
    "# :post-condition: f = n! = 1x2x3...xn\n",
    "\n",
    "n = int(input(\"n ? \"))\n",
    "f = 1\n",
    "i = 2\n",
    "while i <= n:\n",
    "    f = f*i\n",
    "    i = i+1\n",
    "print(f)"
   ]
  },
  {
   "cell_type": "code",
   "execution_count": 13,
   "metadata": {},
   "outputs": [
    {
     "name": "stdout",
     "output_type": "stream",
     "text": [
      "n ? 5\n",
      "120\n"
     ]
    }
   ],
   "source": [
    "# alternative\n",
    "n = int(input(\"n ? \"))\n",
    "f = 1\n",
    "while n > 1:\n",
    "    f = f*n\n",
    "    n  = n-1\n",
    "print(f)"
   ]
  },
  {
   "cell_type": "markdown",
   "metadata": {},
   "source": [
    "# Trace d'exécution \n",
    "\n",
    "Séquence de \"photos\" des variables aux moments clés de l'algorithme :\n",
    "\n",
    "* après la saisie des entrées,\n",
    "* en entrant dans une ligne `while`,\n",
    "* en entrant dans la dernière ligne.\n",
    "\n",
    "Exemple (factorielle, première version)"
   ]
  },
  {
   "cell_type": "raw",
   "metadata": {},
   "source": [
    "trace :\n",
    "#7  n = 5  i = ?  f = ?\n",
    "#9  n = 5  i = 2  f = 1\n",
    "#9  n = 5  i = 3  f = 2\n",
    "#9  n = 5  i = 4  f = 6\n",
    "#9  n = 5  i = 5  f = 24\n",
    "#9  n = 5  i = 6  f = 120\n",
    "#12 n = 5  i = 6  f = 120"
   ]
  },
  {
   "cell_type": "markdown",
   "metadata": {},
   "source": [
    "# Complexité\n",
    "\n",
    "Voir le [chapitre du cours](http://liris.cnrs.fr/~pchampin/enseignement/algo/cours/algo/trace_complexite.html#complexite)."
   ]
  },
  {
   "cell_type": "code",
   "execution_count": null,
   "metadata": {
    "collapsed": true
   },
   "outputs": [],
   "source": [
    "# :entrée n: int\n",
    "# :pré-condition: n >= 0\n",
    "# :sortie s: int\n",
    "# :post-condition: s = 1+2+3...+n\n"
   ]
  },
  {
   "cell_type": "code",
   "execution_count": 11,
   "metadata": {},
   "outputs": [
    {
     "name": "stdout",
     "output_type": "stream",
     "text": [
      "n ? 5\n",
      "15\n"
     ]
    }
   ],
   "source": [
    "# solution non optimale : complexité linéaire\n",
    "n = int(input(\"n ? \"))\n",
    "s = 0\n",
    "i = 1\n",
    "while i <= n:\n",
    "    s = s+i\n",
    "    i = i+1\n",
    "print(s)"
   ]
  },
  {
   "cell_type": "code",
   "execution_count": 12,
   "metadata": {},
   "outputs": [
    {
     "name": "stdout",
     "output_type": "stream",
     "text": [
      "n ? 5\n",
      "15\n"
     ]
    }
   ],
   "source": [
    "# solution optimale : complexité constante\n",
    "n = int(input(\"n ? \"))\n",
    "s = n*(n+1)//2\n",
    "print(s)"
   ]
  }
 ],
 "metadata": {
  "kernelspec": {
   "display_name": "Python 3",
   "language": "python",
   "name": "python3"
  },
  "language_info": {
   "codemirror_mode": {
    "name": "ipython",
    "version": 3
   },
   "file_extension": ".py",
   "mimetype": "text/x-python",
   "name": "python",
   "nbconvert_exporter": "python",
   "pygments_lexer": "ipython3",
   "version": "3.6.3"
  }
 },
 "nbformat": 4,
 "nbformat_minor": 2
}
