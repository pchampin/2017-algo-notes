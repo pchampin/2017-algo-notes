{
 "cells": [
  {
   "cell_type": "code",
   "execution_count": 1,
   "metadata": {},
   "outputs": [],
   "source": [
    "from numpy import *"
   ]
  },
  {
   "cell_type": "markdown",
   "metadata": {},
   "source": [
    "# Algorithmes avec les paramètres d'entrée-sortie"
   ]
  },
  {
   "cell_type": "code",
   "execution_count": 2,
   "metadata": {},
   "outputs": [
    {
     "name": "stdout",
     "output_type": "stream",
     "text": [
      "[ 7  1 -1  3  5]\n",
      "[ 7  8  7 10 15]\n"
     ]
    }
   ],
   "source": [
    "def integre_en_place(t):\n",
    "    \"\"\"\n",
    "    :entrée-sortie t: tableau de float\n",
    "    :pré-cond: /\n",
    "    :post-cond: pour tout i E [0, len(t)[\n",
    "                tₛ[i] = somme pour j E [0, i] tₑ[j]\n",
    "    \"\"\"\n",
    "    i = 1\n",
    "    while i < len(t):\n",
    "        t[i] = t[i] + t[i-1]\n",
    "        i = i+1\n",
    "        \n",
    "a = array([7, 1, -1, 3, 5])     \n",
    "print(a)\n",
    "integre_en_place(a)\n",
    "print(a)"
   ]
  },
  {
   "cell_type": "code",
   "execution_count": 3,
   "metadata": {},
   "outputs": [],
   "source": [
    "# en récursif\n",
    "\n",
    "def integre_en_place(t):\n",
    "    \"\"\"\n",
    "    :entrée-sortie t: tableau de float\n",
    "    :pré-cond: /\n",
    "    :post-cond: pour tout i E [0, len(t)[\n",
    "                tₛ[i] = somme pour j E [0, i] tₑ[j]\n",
    "    \"\"\"\n",
    "    if len(t) < 2:\n",
    "        pass\n",
    "    else:\n",
    "        integre_en_place(t[:len(t)-1])\n",
    "        t[len(t)-1] = t[len(t)-1] + t[len(t)-2]"
   ]
  },
  {
   "cell_type": "code",
   "execution_count": 4,
   "metadata": {},
   "outputs": [
    {
     "name": "stdout",
     "output_type": "stream",
     "text": [
      "[ 7  1 -1  3  5]\n"
     ]
    }
   ],
   "source": [
    "def derive_en_place(t):\n",
    "    \"\"\"\n",
    "    :entrée-sortie t: tableau de float\n",
    "    :pré-cond: /\n",
    "    :post-cond: pour tout i E [1, len(t)[\n",
    "                tₛ[i] = tₑ[i] - tₑ[i-1]\n",
    "                et tₛ[0] = tₑ[0]\n",
    "    \"\"\"\n",
    "    i = len(t)-1\n",
    "    while i > 0:\n",
    "        t[i] = t[i] - t[i-1]\n",
    "        i = i-1\n",
    "\n",
    "derive_en_place(a)\n",
    "print(a)"
   ]
  },
  {
   "cell_type": "markdown",
   "metadata": {},
   "source": [
    "# Recherche dans un tableau"
   ]
  },
  {
   "cell_type": "code",
   "execution_count": 5,
   "metadata": {},
   "outputs": [],
   "source": [
    "def trouve_indice(t, val):\n",
    "    \"\"\"\n",
    "    :entrée t: tableau de float\n",
    "    :entrée val: float\n",
    "    :sortie ival: int\n",
    "    :post-cond: si val E t, t[ival] = val\n",
    "                sinon ival = -1\n",
    "    \"\"\"\n",
    "    ival = -1\n",
    "    i = 0\n",
    "    while i < len(t) and ival==-1:\n",
    "        if t[i] == val:\n",
    "            ival = i\n",
    "        i = i+1\n",
    "    return ival\n",
    "    \n",
    "#t=[ 2, 4, 3.14, 5, 2, 7]  val=4  -> ival=1\n",
    "#t=[ 2, 4, 3.14, 5, 2, 7]  val=42 -> ival=-1\n",
    "#t=[ 2, 4, 3.14, 5, 2, 7]  val=2  -> ival=4"
   ]
  },
  {
   "cell_type": "code",
   "execution_count": 6,
   "metadata": {},
   "outputs": [],
   "source": [
    "# écriture récursive\n",
    "\n",
    "def trouve_indice(t, val):\n",
    "    if len(t) == 0:\n",
    "        ival = -1\n",
    "    else:\n",
    "        if t[len(t)-1] == val:\n",
    "            ival = len(t)-1\n",
    "        else:\n",
    "            ival = trouve_indice(t[:len(t)-1], val)\n",
    "    return ival"
   ]
  },
  {
   "cell_type": "markdown",
   "metadata": {},
   "source": [
    "Considérons maintenant un contrat plus spécifique,\n",
    "dans lequel on impose au tableau d'être trié."
   ]
  },
  {
   "cell_type": "code",
   "execution_count": 7,
   "metadata": {},
   "outputs": [],
   "source": [
    "def trouve_indice_t(t, val):\n",
    "    \"\"\"\n",
    "    :entrée t: tableau de float\n",
    "    :entrée val: float\n",
    "    :pré-cond: t est trié par ordre croissant\n",
    "    :sortie ival: int\n",
    "    :post-cond: si val E t, t[ival] = val\n",
    "                sinon ival = -1\n",
    "    \"\"\"\n",
    "    ival = -1\n",
    "    i = 0\n",
    "    while i < len(t) and t[i] <= val and ival==-1:\n",
    "        if t[i] == val:\n",
    "            ival = i\n",
    "        i = i+1\n",
    "    return ival\n",
    "\n",
    "#t=[ 2, 4, 5, 12, 42, 101]  val=4   -> ival=1\n",
    "#t=[ 2, 4, 5, 12, 42, 101]  val=13  -> ival=-1\n",
    "#t=[ 2, 4, 5, 12, 42, 101]  val=102 -> ival=-1"
   ]
  },
  {
   "cell_type": "markdown",
   "metadata": {},
   "source": [
    "La version ci-dessus améliore les performances dans certains cas,\n",
    "mais dans le pire des cas on doit toujours parcourir la totalité du tableau.\n",
    "\n",
    "On doit pouvoir mieux faire..."
   ]
  }
 ],
 "metadata": {
  "kernelspec": {
   "display_name": "Python 3",
   "language": "python",
   "name": "python3"
  },
  "language_info": {
   "codemirror_mode": {
    "name": "ipython",
    "version": 3
   },
   "file_extension": ".py",
   "mimetype": "text/x-python",
   "name": "python",
   "nbconvert_exporter": "python",
   "pygments_lexer": "ipython3",
   "version": "3.6.3"
  }
 },
 "nbformat": 4,
 "nbformat_minor": 2
}
