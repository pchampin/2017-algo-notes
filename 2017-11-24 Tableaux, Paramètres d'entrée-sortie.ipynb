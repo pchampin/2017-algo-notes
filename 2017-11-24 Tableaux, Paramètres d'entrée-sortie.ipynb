{
 "cells": [
  {
   "cell_type": "code",
   "execution_count": 1,
   "metadata": {},
   "outputs": [
    {
     "name": "stdout",
     "output_type": "stream",
     "text": [
      "[]\n"
     ]
    }
   ],
   "source": [
    "from numpy import *\n",
    "t = array([42])\n",
    "print(t[1:])"
   ]
  },
  {
   "cell_type": "code",
   "execution_count": 10,
   "metadata": {},
   "outputs": [],
   "source": [
    "def moyenne(t):\n",
    "    \"\"\"\n",
    "    :entrée t: tableau de float\n",
    "    :pré-cond: /\n",
    "    :sortie m: float\n",
    "    :post-cond: m est la moyenne des éléments de t\n",
    "    \"\"\"\n",
    "    if len(t) > 0:\n",
    "        i = 0\n",
    "        s = 0.0\n",
    "        while i < len(t):\n",
    "            s = s + t[i]\n",
    "            i = i + 1\n",
    "        m = s/len(t)\n",
    "    else:\n",
    "        m = 0.0\n",
    "    return m"
   ]
  },
  {
   "cell_type": "code",
   "execution_count": 12,
   "metadata": {},
   "outputs": [],
   "source": [
    "def minmax(t):\n",
    "    \"\"\"\n",
    "    :entrée t: tableau de float\n",
    "    :pré-cond: len(t) > 0\n",
    "    :sortie min, max: float\n",
    "    :post-cond: min est la plus petite valeur de t\n",
    "                max est la plus grande valeur de t\n",
    "    \"\"\"\n",
    "    min = t[0]\n",
    "    max = t[0]\n",
    "    i = 1\n",
    "    while i < len(t):\n",
    "        if t[i] > max:\n",
    "            max = t[i]\n",
    "        else:\n",
    "            if t[i] < min:\n",
    "                min = t[i]\n",
    "        i = i+1\n",
    "    return min, max\n",
    "\n",
    "def minmax(t):\n",
    "    if len(t) == 1:\n",
    "        min = max = t[0]\n",
    "    else:\n",
    "        min, max = minmax(t[1:])\n",
    "        if t[0] < min:\n",
    "            min = t[0]\n",
    "        if t[0] > max:\n",
    "            max = t[0]\n",
    "    return min, max\n"
   ]
  },
  {
   "cell_type": "code",
   "execution_count": 14,
   "metadata": {},
   "outputs": [
    {
     "name": "stdout",
     "output_type": "stream",
     "text": [
      "43 42\n"
     ]
    }
   ],
   "source": [
    "a = 42\n",
    "b = a\n",
    "a = a+1\n",
    "print(a, b)"
   ]
  },
  {
   "cell_type": "code",
   "execution_count": 17,
   "metadata": {},
   "outputs": [
    {
     "name": "stdout",
     "output_type": "stream",
     "text": [
      "[2 2 3] [2 2 3]\n"
     ]
    }
   ],
   "source": [
    "a = array([1,2,3])\n",
    "b = a\n",
    "a[0] = a[0]+1\n",
    "print(a, b)"
   ]
  },
  {
   "cell_type": "code",
   "execution_count": 10,
   "metadata": {},
   "outputs": [],
   "source": [
    "def copie(te):\n",
    "    \"\"\"\n",
    "    :entrée te: tableau de float\n",
    "    :sortie ts: tableau de float\n",
    "    :post-cond: len(ts) = len(te)\n",
    "                 pour tout i < len(te), te[i] = ts[i]\n",
    "    \"\"\"\n",
    "    ts = empty(len(te), float)\n",
    "    i = 0\n",
    "    while i < len(te):\n",
    "        ts[i] = te[i]\n",
    "        i = i+1\n",
    "    return ts\n",
    "    "
   ]
  },
  {
   "cell_type": "code",
   "execution_count": 13,
   "metadata": {},
   "outputs": [
    {
     "name": "stdout",
     "output_type": "stream",
     "text": [
      "[ 1.  2.  3.] [ 2.  4.  6.]\n"
     ]
    }
   ],
   "source": [
    "def double(te):\n",
    "    \"\"\"\n",
    "    :entrée te: tableau de float\n",
    "    :sortie ts: tableau de float\n",
    "    :post-cond: len(ts) = len(te) et pour tout i ts[i] = 2×te[i]\n",
    "    \"\"\"\n",
    "    ts = empty(len(te), float)\n",
    "    i = 0\n",
    "    while i < len(te):\n",
    "        ts[i] = 2*te[i]\n",
    "        i = i+1\n",
    "    return ts\n",
    "\n",
    "a = array([1.0, 2.0, 3.0])\n",
    "b = double(a)\n",
    "print(a, b)"
   ]
  },
  {
   "cell_type": "code",
   "execution_count": 3,
   "metadata": {},
   "outputs": [
    {
     "name": "stdout",
     "output_type": "stream",
     "text": [
      "[ 1.  2.  3.]\n",
      "[ 2.  4.  6.]\n"
     ]
    }
   ],
   "source": [
    "def double_en_place(t):\n",
    "    \"\"\"\n",
    "    :entrée-sortie t: tableau de float\n",
    "    :post-cond: pour tout i tₛ[i] = 2×tₑ[i]\n",
    "    \"\"\"\n",
    "    i = 0\n",
    "    while i < len(t):\n",
    "        t[i] = 2*t[i]\n",
    "        i = i+1\n",
    "\n",
    "a = array([1.0, 2.0, 3.0])\n",
    "print(a)\n",
    "double_en_place(a)\n",
    "print(a)"
   ]
  }
 ],
 "metadata": {
  "kernelspec": {
   "display_name": "Python 3",
   "language": "python",
   "name": "python3"
  },
  "language_info": {
   "codemirror_mode": {
    "name": "ipython",
    "version": 3
   },
   "file_extension": ".py",
   "mimetype": "text/x-python",
   "name": "python",
   "nbconvert_exporter": "python",
   "pygments_lexer": "ipython3",
   "version": "3.6.3"
  }
 },
 "nbformat": 4,
 "nbformat_minor": 2
}
