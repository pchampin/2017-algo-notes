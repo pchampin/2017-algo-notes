{
 "cells": [
  {
   "cell_type": "markdown",
   "metadata": {},
   "source": [
    "# Chaînes de caractères (*strings*)"
   ]
  },
  {
   "cell_type": "code",
   "execution_count": 102,
   "metadata": {},
   "outputs": [
    {
     "name": "stdout",
     "output_type": "stream",
     "text": [
      "Bonjour le monde\n"
     ]
    }
   ],
   "source": [
    "texte = \"Bonjour le monde\"\n",
    "print(texte)"
   ]
  },
  {
   "cell_type": "markdown",
   "metadata": {},
   "source": [
    "Codes (\"échapements\") pour représenter des caractères spéciaux :\n",
    "* ``\\n`` pour un retour à la ligne\n",
    "* ``\\\"`` pour un guillemet\n",
    "* ``\\\\`` pour un anti-slash"
   ]
  },
  {
   "cell_type": "code",
   "execution_count": 103,
   "metadata": {},
   "outputs": [
    {
     "name": "stdout",
     "output_type": "stream",
     "text": [
      "Hé,\n",
      "bonjour le \"monde\" !\n"
     ]
    }
   ],
   "source": [
    "texte = \"Hé,\\nbonjour le monde !\"\n",
    "print(texte)"
   ]
  },
  {
   "cell_type": "code",
   "execution_count": 106,
   "metadata": {},
   "outputs": [
    {
     "name": "stdout",
     "output_type": "stream",
     "text": [
      "Le caractère \\ est appelé \"anti-slash\"\n"
     ]
    }
   ],
   "source": [
    "texte = \"Le caractère \\\\ est appelé \\\"anti-slash\\\"\"\n",
    "print(texte)"
   ]
  },
  {
   "cell_type": "markdown",
   "metadata": {},
   "source": [
    "## Concaténation"
   ]
  },
  {
   "cell_type": "code",
   "execution_count": 109,
   "metadata": {},
   "outputs": [
    {
     "name": "stdout",
     "output_type": "stream",
     "text": [
      "bonjour\n",
      "le monde\n"
     ]
    }
   ],
   "source": [
    "texte = \"bonjour\\n\" + \"le monde\"\n",
    "print(texte)"
   ]
  },
  {
   "cell_type": "code",
   "execution_count": 110,
   "metadata": {},
   "outputs": [
    {
     "name": "stdout",
     "output_type": "stream",
     "text": [
      "****\n"
     ]
    }
   ],
   "source": [
    "texte = 4*\"*\"\n",
    "print(texte)"
   ]
  },
  {
   "cell_type": "markdown",
   "metadata": {},
   "source": [
    "NB: bien que l'opérateur + soit utilisé dans les deux cas,\n",
    "il ne faut pas confondre l'addition (entre les nombres) et la concaténation (entre les chaînes).\n",
    "Il n'est notamment pas possible de d'écrire:\n",
    "```python\n",
    "\"hello\" + 42\n",
    "```"
   ]
  },
  {
   "cell_type": "markdown",
   "metadata": {},
   "source": [
    "## Conversion en chaîne de caractères\n",
    "\n",
    "On utilise en général la fonction ``str``."
   ]
  },
  {
   "cell_type": "code",
   "execution_count": 112,
   "metadata": {},
   "outputs": [
    {
     "name": "stdout",
     "output_type": "stream",
     "text": [
      "La réponse est 42\n"
     ]
    }
   ],
   "source": [
    "message = \"La réponse est \" + str(42)\n",
    "print(message)"
   ]
  },
  {
   "cell_type": "markdown",
   "metadata": {},
   "source": [
    "On peut également utiliser la fonction ``repr``,\n",
    "qui donne une *représentation* compatible avec le langage algorithmique."
   ]
  },
  {
   "cell_type": "code",
   "execution_count": 113,
   "metadata": {},
   "outputs": [
    {
     "name": "stdout",
     "output_type": "stream",
     "text": [
      "A\n",
      "B\n",
      "'A\\nB'\n"
     ]
    }
   ],
   "source": [
    "print(\"A\\nB\")\n",
    "print(repr(\"A\\nB\"))"
   ]
  },
  {
   "cell_type": "markdown",
   "metadata": {},
   "source": [
    "## Longueur d'une chaîne de caractères\n",
    "\n",
    "On utilise la fonction ``len`` (*length*)."
   ]
  },
  {
   "cell_type": "code",
   "execution_count": 114,
   "metadata": {},
   "outputs": [
    {
     "name": "stdout",
     "output_type": "stream",
     "text": [
      "7\n"
     ]
    }
   ],
   "source": [
    "print( len(\"bonjour\") )"
   ]
  },
  {
   "cell_type": "markdown",
   "metadata": {},
   "source": [
    "NB: les espaces comptent comme des caractères."
   ]
  },
  {
   "cell_type": "code",
   "execution_count": 115,
   "metadata": {},
   "outputs": [
    {
     "name": "stdout",
     "output_type": "stream",
     "text": [
      "5\n",
      "7\n"
     ]
    }
   ],
   "source": [
    "print( len(\"a b c\") )"
   ]
  },
  {
   "cell_type": "markdown",
   "metadata": {},
   "source": [
    "NB: les codes spéciaux (``\\n``, ``\\\"``, ``\\\\``) comptent comme *un seul* caractère chacun."
   ]
  },
  {
   "cell_type": "code",
   "execution_count": 118,
   "metadata": {},
   "outputs": [
    {
     "name": "stdout",
     "output_type": "stream",
     "text": [
      "2\n"
     ]
    }
   ],
   "source": [
    "print( len(\"a\\n\") )"
   ]
  },
  {
   "cell_type": "markdown",
   "metadata": {},
   "source": [
    "## Accès à un caractère individuel\n",
    "\n",
    "Les caractères d'une chaîne sont numérotés à *partir de 0*. On appelle ce numéro l'**indice** (ou parfois l'index) du caractère. Pour accéder à un caractère précis, on donne son indice entre crochets."
   ]
  },
  {
   "cell_type": "code",
   "execution_count": 120,
   "metadata": {},
   "outputs": [
    {
     "name": "stdout",
     "output_type": "stream",
     "text": [
      "b\n",
      "j\n",
      "!\n"
     ]
    }
   ],
   "source": [
    "texte = \"bonjour le monde!\"\n",
    "c = texte[0]\n",
    "print(c)\n",
    "c = texte[3]\n",
    "print(c)\n",
    "c = texte[len(texte)-1]\n",
    "print(c)"
   ]
  },
  {
   "cell_type": "markdown",
   "metadata": {},
   "source": [
    "## La chaîne vide\n",
    "\n",
    "La chaîne vide ``\"\"`` ne contient aucun caractère. Sa longueur est donc 0. Si on la concatène à une autre chaîne *txt*, le résultat est identique à *txt*."
   ]
  },
  {
   "cell_type": "code",
   "execution_count": 75,
   "metadata": {},
   "outputs": [
    {
     "name": "stdout",
     "output_type": "stream",
     "text": [
      "0\n",
      "True\n"
     ]
    }
   ],
   "source": [
    "vide = \"\"\n",
    "print(len(vide))\n",
    "print(vide + \"bonjour\" == \"bonjour\")"
   ]
  },
  {
   "cell_type": "markdown",
   "metadata": {},
   "source": [
    "# Exercices"
   ]
  },
  {
   "cell_type": "code",
   "execution_count": 98,
   "metadata": {},
   "outputs": [
    {
     "data": {
      "text/plain": [
       "True"
      ]
     },
     "execution_count": 98,
     "metadata": {},
     "output_type": "execute_result"
    }
   ],
   "source": [
    "def contient(car, texte):\n",
    "    \"\"\"\n",
    "    :entrée car: str\n",
    "    :entrée texte: str\n",
    "    :pré-cond: len(car) == 1\n",
    "    :sortie trouvé: bool\n",
    "    :post-cond: trouvé est True\n",
    "                ssi texte contient car\n",
    "    \"\"\"\n",
    "    \n",
    "    trouvé = False\n",
    "    i= 0\n",
    "    while i < len(texte) :\n",
    "        if car == texte [i]:\n",
    "            trouvé = True\n",
    "        i = i+1\n",
    "        \n",
    "    return trouvé\n",
    "    \n",
    "contient(\"a\", \"abricot\"*10000000)"
   ]
  },
  {
   "cell_type": "markdown",
   "metadata": {},
   "source": [
    "L'algorithme ci-dessus est *correct* (il donne le bon résultat), mais *suboptimal* (il prend parfois trop de temps): lorsque le caractère est trouvé (même au début de la chaîne), il parcours la chaîne jusqu'au bout.\n",
    "\n",
    "Il est donc possible de l'améliorer :"
   ]
  },
  {
   "cell_type": "code",
   "execution_count": 121,
   "metadata": {},
   "outputs": [
    {
     "data": {
      "text/plain": [
       "True"
      ]
     },
     "execution_count": 121,
     "metadata": {},
     "output_type": "execute_result"
    }
   ],
   "source": [
    "def contient(car, texte):\n",
    "    trouvé = False\n",
    "    i= 0\n",
    "    while not trouvé  and  i < len(texte) :\n",
    "        if car == texte [i]:\n",
    "            trouvé = True\n",
    "        i = i+1\n",
    "        \n",
    "    return trouvé\n",
    "    \n",
    "contient(\"a\", \"abricot\"*10000000)"
   ]
  },
  {
   "cell_type": "code",
   "execution_count": 122,
   "metadata": {
    "collapsed": true
   },
   "outputs": [],
   "source": [
    "def compte_voyelles(texte):\n",
    "    \"\"\"\n",
    "    :entrée texte: str\n",
    "    :pré-cond: texte ne contient pas de\n",
    "               lettre accentuée\n",
    "    :sortie nbv: int\n",
    "    :post-cond: nbv est le nombre de voyelles\n",
    "                dans texte\n",
    "    \"\"\"\n"
   ]
  }
 ],
 "metadata": {
  "kernelspec": {
   "display_name": "Python 3",
   "language": "python",
   "name": "python3"
  },
  "language_info": {
   "codemirror_mode": {
    "name": "ipython",
    "version": 3
   },
   "file_extension": ".py",
   "mimetype": "text/x-python",
   "name": "python",
   "nbconvert_exporter": "python",
   "pygments_lexer": "ipython3",
   "version": "3.6.3"
  }
 },
 "nbformat": 4,
 "nbformat_minor": 2
}
