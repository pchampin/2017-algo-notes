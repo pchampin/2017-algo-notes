{
 "cells": [
  {
   "cell_type": "code",
   "execution_count": 11,
   "metadata": {},
   "outputs": [
    {
     "name": "stdout",
     "output_type": "stream",
     "text": [
      "3\n"
     ]
    }
   ],
   "source": [
    "def contient(car, texte):\n",
    "    trouvé = False\n",
    "    i= 0\n",
    "    while not trouvé  and  i < len(texte) :\n",
    "        if car == texte [i]:\n",
    "            trouvé = True\n",
    "        i = i+1\n",
    "        \n",
    "    return trouvé\n",
    "    \n",
    "def compte_voyelles(texte):\n",
    "    \"\"\"\n",
    "    :entrée texte: str\n",
    "    :pré-cond: texte ne contient pas de\n",
    "               lettre accentuée\n",
    "    :sortie nbv: int\n",
    "    :post-cond: nbv est le nombre de voyelles\n",
    "                dans texte\n",
    "    \"\"\"\n",
    "    i=len(texte)-1\n",
    "    nbv=0\n",
    "    while i>=0:\n",
    "        if contient(texte[i], \"aeiouyAEIOUY\"):\n",
    "            nbv=nbv+1\n",
    "        i=i-1\n",
    "    return nbv\n",
    "\n",
    "print( compte_voyelles(\"bonjour\") )"
   ]
  },
  {
   "cell_type": "code",
   "execution_count": 17,
   "metadata": {},
   "outputs": [
    {
     "name": "stdout",
     "output_type": "stream",
     "text": [
      "10\n"
     ]
    }
   ],
   "source": [
    "def compte_voyelles(texte):\n",
    "    \"\"\"\n",
    "    :entrée texte: str\n",
    "    :pré-cond: texte ne contient pas de\n",
    "               lettre accentuée\n",
    "    :sortie nbv: int\n",
    "    :post-cond: nbv est le nombre de voyelles\n",
    "                dans texte\n",
    "    \"\"\"\n",
    "    i=0\n",
    "    nbv=0\n",
    "    while i<len(texte):\n",
    "        if contient(texte[i], \"aeiouyAEIOUY\"):\n",
    "            nbv=nbv+1\n",
    "        i=i+1\n",
    "    return nbv\n",
    "\n",
    "print( compte_voyelles(\"ab\"*10) )"
   ]
  },
  {
   "cell_type": "code",
   "execution_count": 26,
   "metadata": {},
   "outputs": [
    {
     "name": "stdout",
     "output_type": "stream",
     "text": [
      "\n"
     ]
    }
   ],
   "source": [
    "def inverse(texte):\n",
    "    \"\"\"\n",
    "    :entrée texte: str\n",
    "    :pré-cond: ø\n",
    "    :sortie inversé: str\n",
    "    :post-cond: inversé contient les même caractères que texte,\n",
    "                mais dans l'ordre inverse\n",
    "    \"\"\"\n",
    "    inversé=\"\"\n",
    "    i=len(texte)-1\n",
    "    while i>=0:\n",
    "        c=texte[i]\n",
    "        inversé=inversé+c\n",
    "        i=i-1\n",
    "    return inversé\n",
    "\n",
    "print (inverse(\"\"))"
   ]
  },
  {
   "cell_type": "code",
   "execution_count": 38,
   "metadata": {},
   "outputs": [
    {
     "name": "stdout",
     "output_type": "stream",
     "text": [
      "esoper es te ici etser epose\n"
     ]
    }
   ],
   "source": [
    "def inverse(texte):\n",
    "    \"\"\"\n",
    "    :entrée texte: str\n",
    "    :pré-cond: ø\n",
    "    :sortie inversé: str\n",
    "    :post-cond: inversé contient les même caractères que texte,\n",
    "                mais dans l'ordre inverse\n",
    "    \"\"\"\n",
    "    inversé=\"\"\n",
    "    i=0\n",
    "    while i<len(texte):\n",
    "        inversé=texte[i]+inversé\n",
    "        i=i+1\n",
    "    return inversé\n",
    "\n",
    "print (inverse(\"esope reste ici et se repose\"))\n"
   ]
  },
  {
   "cell_type": "code",
   "execution_count": 40,
   "metadata": {},
   "outputs": [
    {
     "name": "stdout",
     "output_type": "stream",
     "text": [
      "False\n",
      "True\n"
     ]
    }
   ],
   "source": [
    "def palindrome(texte):\n",
    "    \"\"\"\n",
    "    :entrée texte: str\n",
    "    :pré-cond: ø\n",
    "    :sortie p: bool\n",
    "    :post-cond: p vaut True ssi texte est un palindrome\n",
    "    \"\"\"\n",
    "    return inverse(texte) == texte\n",
    "\n",
    "print( palindrome(\"bonjour\") )\n",
    "print( palindrome(\"kayak\") )"
   ]
  },
  {
   "cell_type": "code",
   "execution_count": 48,
   "metadata": {},
   "outputs": [
    {
     "name": "stdout",
     "output_type": "stream",
     "text": [
      "False\n",
      "True\n",
      "False\n"
     ]
    }
   ],
   "source": [
    "def palindrome(texte):\n",
    "    \"\"\"\n",
    "    :entrée texte: str\n",
    "    :pré-cond: ø\n",
    "    :sortie p: bool\n",
    "    :post-cond: p vaut True ssi texte est un palindrome\n",
    "    \"\"\"\n",
    "    p = True\n",
    "    i = 0\n",
    "    j = len(texte)-1\n",
    "    while p and i < j: # plus élégant que i < len(texte)//2:\n",
    "        if texte[i] != texte[j]:\n",
    "            p = False\n",
    "        i = i+1\n",
    "        j = j-1\n",
    "    return p\n",
    "\n",
    "print( palindrome(\"bonjour\") )\n",
    "print( palindrome(\"kayak\") )\n",
    "print( palindrome(\"b\"+\"a\"*10000000))"
   ]
  }
 ],
 "metadata": {
  "kernelspec": {
   "display_name": "Python 3",
   "language": "python",
   "name": "python3"
  },
  "language_info": {
   "codemirror_mode": {
    "name": "ipython",
    "version": 3
   },
   "file_extension": ".py",
   "mimetype": "text/x-python",
   "name": "python",
   "nbconvert_exporter": "python",
   "pygments_lexer": "ipython3",
   "version": "3.6.3"
  }
 },
 "nbformat": 4,
 "nbformat_minor": 2
}
