{
 "cells": [
  {
   "cell_type": "code",
   "execution_count": 2,
   "metadata": {},
   "outputs": [
    {
     "name": "stdout",
     "output_type": "stream",
     "text": [
      "Nombre entier positif ? 12534\n",
      "15\n"
     ]
    }
   ],
   "source": [
    "# :entrée n: int\n",
    "# :pré-condition: n > 0\n",
    "# :sortie résultat: int\n",
    "# :post-condition: résultat vaut la somme des chiffres qui forment n\n",
    "\n",
    "n = int(input(\"Nombre entier positif ? \"))\n",
    "résultat = 0\n",
    "while n > 0:\n",
    "    résultat = résultat + n%10\n",
    "    n = n//10\n",
    "print(résultat)"
   ]
  },
  {
   "cell_type": "code",
   "execution_count": 5,
   "metadata": {},
   "outputs": [
    {
     "name": "stdout",
     "output_type": "stream",
     "text": [
      "Nombre entier positif ? 9\n",
      "9\n"
     ]
    }
   ],
   "source": [
    "# :entrée n: int\n",
    "# :pré-condition: n > 0\n",
    "# :sortie résultat: int\n",
    "# :post-condition: résultat est la somme des multiples de 3\n",
    "#     appartenant à l'intervalle [1;n[\n",
    "\n",
    "n = int(input(\"Nombre entier positif ? \"))\n",
    "résultat = 0\n",
    "i = 1\n",
    "while i < n:\n",
    "    if i%3 == 0:\n",
    "        résultat = résultat + i\n",
    "    i = i+1\n",
    "print(résultat)\n",
    "\n",
    "# n = 5\n",
    "# n = 9\n",
    "# n = 11\n"
   ]
  },
  {
   "cell_type": "code",
   "execution_count": null,
   "metadata": {
    "collapsed": true
   },
   "outputs": [],
   "source": [
    "# pour la prochaine fois\n",
    "\n",
    "# :entrée n: int\n",
    "# :pré-condition: n > 0\n",
    "# :sortie nb_chiffres: int\n",
    "# :post-condition: nb_chiffres est le nombre de chiffres\n",
    "#   qui servent à écrire n (en base 10)\n"
   ]
  }
 ],
 "metadata": {
  "kernelspec": {
   "display_name": "Python 3",
   "language": "python",
   "name": "python3"
  },
  "language_info": {
   "codemirror_mode": {
    "name": "ipython",
    "version": 3
   },
   "file_extension": ".py",
   "mimetype": "text/x-python",
   "name": "python",
   "nbconvert_exporter": "python",
   "pygments_lexer": "ipython3",
   "version": "3.5.3"
  }
 },
 "nbformat": 4,
 "nbformat_minor": 2
}
