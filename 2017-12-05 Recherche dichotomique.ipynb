{
 "cells": [
  {
   "cell_type": "code",
   "execution_count": 1,
   "metadata": {},
   "outputs": [],
   "source": [
    "from numpy import *\n",
    "\n",
    "gros_tableau = empty(10_000_000)\n",
    "i = 0\n",
    "while i < len(gros_tableau):\n",
    "    gros_tableau[i] = 2.0*i\n",
    "    i += 1"
   ]
  },
  {
   "cell_type": "code",
   "execution_count": 2,
   "metadata": {},
   "outputs": [
    {
     "name": "stdout",
     "output_type": "stream",
     "text": [
      "9444444\n"
     ]
    }
   ],
   "source": [
    "# repris ici pour comparaison\n",
    "\n",
    "def trouve_indice(t, val):\n",
    "    \"\"\"\n",
    "    :entrée t: tableau de float\n",
    "    :entrée val: float\n",
    "    :sortie ival: int\n",
    "    :post-cond: si val E t, t[ival] = val\n",
    "                sinon ival = -1\n",
    "    \"\"\"\n",
    "    ival = -1\n",
    "    i = 0\n",
    "    while i < len(t) and ival==-1:\n",
    "        if t[i] == val:\n",
    "            ival = i\n",
    "        i = i+1\n",
    "    return ival\n",
    "\n",
    "print( trouve_indice(gros_tableau, 18_888_888) )\n",
    "# mets plusieurs secondes à répondre"
   ]
  },
  {
   "cell_type": "markdown",
   "metadata": {},
   "source": [
    "# Recherche dichotomique\n",
    "\n",
    "Le principe consiste à éliminer la moitié des valeurs à chaque étape.\n",
    "\n",
    "Pour cela, considère un intervalle (initiallement le tableau dans son intégralité),\n",
    "et on compare la valeur au centre de l'intervalle avec la valeur recherché.\n",
    "Si elle est trop grande, on ne considère plus que la moitié gauche de l'intervalle;\n",
    "si elle est trop petite, on ne considère plus que la moitié droite.\n",
    "Biens sûr, si on la valeur au centre est la valeur recherchée, on peut s'arrêter.\n",
    "On s'arrête également lorsque l'intervalle est vide,\n",
    "auquel cas la valeur recherchée est absente du tableau."
   ]
  },
  {
   "cell_type": "code",
   "execution_count": 3,
   "metadata": {},
   "outputs": [
    {
     "name": "stdout",
     "output_type": "stream",
     "text": [
      "9444444\n"
     ]
    }
   ],
   "source": [
    "def trouve_indice_t(t, val):\n",
    "    \"\"\"\n",
    "    :entrée t: tableau de float\n",
    "    :entrée val: float\n",
    "    :pré-cond: t est trié par ordre croissant  # seule différence avec le précédent\n",
    "    :sortie ival: int\n",
    "    :post-cond: si val E t, t[ival] = val\n",
    "                sinon ival = -1\n",
    "    \"\"\"\n",
    "    ival = -1\n",
    "    i = 0\n",
    "    j = len(t)-1\n",
    "    while i <= j and ival == -1:\n",
    "        m = (i+j)//2\n",
    "        if t[m] == val:\n",
    "            ival = m\n",
    "        else:\n",
    "            if t[m] < val:\n",
    "                i = m+1\n",
    "            else: # val < t[m]\n",
    "                j = m-1\n",
    "    return ival\n",
    "\n",
    "print( trouve_indice_t(gros_tableau, 18_888_888) )\n",
    "# répond instantanément"
   ]
  },
  {
   "cell_type": "code",
   "execution_count": 4,
   "metadata": {},
   "outputs": [
    {
     "name": "stdout",
     "output_type": "stream",
     "text": [
      "9444444\n"
     ]
    }
   ],
   "source": [
    "# version récursive\n",
    "\n",
    "def trouve_indice_t(t, val):\n",
    "    \"\"\"\n",
    "    :entrée t: tableau de float\n",
    "    :entrée val: float\n",
    "    :pré-cond: t est trié par ordre croissant  # seule différence avec le précédent\n",
    "    :sortie ival: int\n",
    "    :post-cond: si val E t, t[ival] = val\n",
    "                sinon ival = -1\n",
    "    \"\"\"\n",
    "    \n",
    "    if len(t) == 0:\n",
    "        ival = -1\n",
    "    else:\n",
    "        m = (len(t)-1)//2\n",
    "        if t[m] == val:\n",
    "            ival = m\n",
    "        else:\n",
    "            if val < t[m]:\n",
    "                ival = trouve_indice_t(t[:m], val)\n",
    "            else: # t[m] < val\n",
    "                ival = trouve_indice_t(t[m+1:], val)\n",
    "                if ival > -1:\n",
    "                    ival = ival + m+1 # \"re-callage\" des indices\n",
    "    return ival\n",
    "\n",
    "print( trouve_indice_t(gros_tableau, 18_888_888) )\n",
    "# répond instantanément"
   ]
  },
  {
   "cell_type": "code",
   "execution_count": 5,
   "metadata": {},
   "outputs": [
    {
     "name": "stdout",
     "output_type": "stream",
     "text": [
      "True\n"
     ]
    }
   ],
   "source": [
    "def est_trié(t):\n",
    "    \"\"\"\n",
    "    :entrée t: tableau de float\n",
    "    :pré-cond: /\n",
    "    :sortie trié: bool\n",
    "    :post-cond: trié est True si t est trié, False sinon\n",
    "    \"\"\"\n",
    "    trié = True\n",
    "    i = 1\n",
    "    while i < len(t)  and  trié:\n",
    "        trié = (t[i-1] <= t[i])\n",
    "        i = i+1\n",
    "    return trié\n",
    "        \n",
    "print( est_trié(gros_tableau) )"
   ]
  },
  {
   "cell_type": "code",
   "execution_count": 6,
   "metadata": {},
   "outputs": [],
   "source": [
    "# version récursive\n",
    "def est_trié(t):\n",
    "    if len(t) <= 1:\n",
    "        return True\n",
    "    else:\n",
    "        if t[0] > t[1]:\n",
    "            return False\n",
    "        else:\n",
    "            return est_trié(t[1:])"
   ]
  }
 ],
 "metadata": {
  "kernelspec": {
   "display_name": "Python 3",
   "language": "python",
   "name": "python3"
  },
  "language_info": {
   "codemirror_mode": {
    "name": "ipython",
    "version": 3
   },
   "file_extension": ".py",
   "mimetype": "text/x-python",
   "name": "python",
   "nbconvert_exporter": "python",
   "pygments_lexer": "ipython3",
   "version": "3.6.3"
  }
 },
 "nbformat": 4,
 "nbformat_minor": 2
}
