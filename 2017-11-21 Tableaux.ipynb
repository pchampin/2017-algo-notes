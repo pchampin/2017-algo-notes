{
 "cells": [
  {
   "cell_type": "code",
   "execution_count": 2,
   "metadata": {},
   "outputs": [],
   "source": [
    "from numpy import *"
   ]
  },
  {
   "cell_type": "code",
   "execution_count": 17,
   "metadata": {},
   "outputs": [
    {
     "name": "stdout",
     "output_type": "stream",
     "text": [
      "6\n",
      "1\n",
      "[1 2 3 5 8]\n"
     ]
    }
   ],
   "source": [
    "t1 = array([1,1,2,3,5,8])\n",
    "\n",
    "# opérations en commun avec les chaînes de catactères\n",
    "print( len(t1) )\n",
    "print( t1[0] )\n",
    "print( t1[1:] )"
   ]
  },
  {
   "cell_type": "code",
   "execution_count": 15,
   "metadata": {},
   "outputs": [
    {
     "name": "stdout",
     "output_type": "stream",
     "text": [
      "[42  1  2  3  5  8]\n"
     ]
    }
   ],
   "source": [
    "# opération spécifique aux tableaux : modification d'une cellule\n",
    "t1[0] = 42\n",
    "print(t1)"
   ]
  },
  {
   "cell_type": "code",
   "execution_count": 34,
   "metadata": {},
   "outputs": [
    {
     "name": "stdout",
     "output_type": "stream",
     "text": [
      "[  1.54514762e-316   0.00000000e+000   0.00000000e+000 ...,\n",
      "   0.00000000e+000   0.00000000e+000   0.00000000e+000]\n",
      "1000000\n"
     ]
    }
   ],
   "source": [
    "t2 = empty(1_000_000, float)\n",
    "print(t2)\n",
    "print(len(t2))"
   ]
  },
  {
   "cell_type": "code",
   "execution_count": 45,
   "metadata": {},
   "outputs": [
    {
     "name": "stdout",
     "output_type": "stream",
     "text": [
      "[ 0.  0.  0. ...,  0.  0.  0.]\n",
      "10000000\n"
     ]
    }
   ],
   "source": [
    "def zeros(taille):\n",
    "    \"\"\"\n",
    "    :entrée taille: int\n",
    "    :pré-cond: taille > 0\n",
    "    :sortie t: tableau de float\n",
    "    :post-cond: len(t) == taille,\n",
    "                et t[i] = 0.0 pour tout i entre 0 et taille-1\n",
    "    \"\"\"\n",
    "    t = empty(taille, float)\n",
    "    i = 0\n",
    "    while i < taille: # ou i <= taille-1\n",
    "        t[i] = 0.0\n",
    "        i = i+1\n",
    "    return t\n",
    "\n",
    "t3 = zeros(10000000)\n",
    "print(t3)\n",
    "print(len(t3))\n",
    "        "
   ]
  },
  {
   "cell_type": "code",
   "execution_count": 52,
   "metadata": {},
   "outputs": [
    {
     "name": "stdout",
     "output_type": "stream",
     "text": [
      "[0 0 0 0 0 0 0 0 0 0]\n"
     ]
    }
   ],
   "source": [
    "# en fait, la fonction zeros existe déjà\n",
    "from numpy import *\n",
    "\n",
    "t4 = zeros(10, int)\n",
    "print(t4)"
   ]
  },
  {
   "cell_type": "code",
   "execution_count": 55,
   "metadata": {},
   "outputs": [
    {
     "name": "stdout",
     "output_type": "stream",
     "text": [
      "[0 1 2 3 4]\n"
     ]
    }
   ],
   "source": [
    "def suite_arithmétique(premier, raison, taille):\n",
    "    \"\"\"\n",
    "    :entrée premier, raison, taille: int\n",
    "    :pré-cond: taille > 0\n",
    "    :sortie t: tableau d'int\n",
    "    :post-cond: len(t) == taille, t[0] == premier\n",
    "                t contient les 'taille' premiers éléments\n",
    "                de la suite arithmétique\n",
    "                de premier élément 'premier'\n",
    "                et de raison 'raison'\n",
    "    \"\"\"\n",
    "    t = empty(taille, int)\n",
    "    i = 0\n",
    "    while i < taille:\n",
    "        t[i] = premier + raison*i\n",
    "        i = i+1\n",
    "    return t\n",
    "\n",
    "print(suite_arithmétique(0,1,5))"
   ]
  },
  {
   "cell_type": "code",
   "execution_count": 60,
   "metadata": {},
   "outputs": [
    {
     "name": "stdout",
     "output_type": "stream",
     "text": [
      "[10 12 14 16 18]\n"
     ]
    }
   ],
   "source": [
    "def suite_arithmétique(premier, raison, taille):\n",
    "    t = empty(taille, int)\n",
    "    t[0] = premier\n",
    "    i = 1\n",
    "    while i < taille:\n",
    "        t[i] = t[i-1] + raison\n",
    "        i = i+1\n",
    "    return t\n",
    "\n",
    "print(suite_arithmétique(10,2,5))"
   ]
  },
  {
   "cell_type": "code",
   "execution_count": 64,
   "metadata": {},
   "outputs": [
    {
     "name": "stdout",
     "output_type": "stream",
     "text": [
      "[  1   1   2   3   5   8  13  21  34  55  89 144]\n"
     ]
    }
   ],
   "source": [
    "def fibonacci(taille):\n",
    "    \"\"\"\n",
    "    :entrée taille: int\n",
    "    :pré-cond: taille ≥ 2\n",
    "    :sortie t: tableau d'int\n",
    "    :post-cond: ?\n",
    "    \"\"\"\n",
    "    t = empty(taille, int)\n",
    "    t[0] = 1\n",
    "    t[1] = 1\n",
    "    i = 2\n",
    "    while i < taille:\n",
    "        t[i] = t[i-1] + t[i-2]\n",
    "        i = i+1\n",
    "    return t\n",
    "\n",
    "print( fibonacci(12) )\n",
    "    "
   ]
  },
  {
   "cell_type": "code",
   "execution_count": 66,
   "metadata": {},
   "outputs": [
    {
     "name": "stdout",
     "output_type": "stream",
     "text": [
      "376\n"
     ]
    }
   ],
   "source": [
    "def somme(t):\n",
    "    \"\"\"\n",
    "    :entrée t: tableau de float\n",
    "    :sortie s: float\n",
    "    :post-cond: s est la somme des éléments de t\n",
    "    \"\"\"\n",
    "    s = 0\n",
    "    i = 0\n",
    "    while i < len(t):\n",
    "        s = s + t[i]\n",
    "        i = i+1\n",
    "    return s\n",
    "\n",
    "def somme(t):\n",
    "    \"\"\"\n",
    "    :entrée t: tableau de float\n",
    "    :sortie s: float\n",
    "    :post-cond: s est la somme des éléments de t\n",
    "    \"\"\"\n",
    "    if len(t) == 0:\n",
    "        s = 0\n",
    "    else:\n",
    "        s = t[0] + somme(t[1:])\n",
    "    return s\n",
    "\n",
    "print(somme(fibonacci(12)))\n",
    "    "
   ]
  },
  {
   "cell_type": "code",
   "execution_count": 67,
   "metadata": {},
   "outputs": [
    {
     "name": "stdout",
     "output_type": "stream",
     "text": [
      "['hi' 'world']\n",
      "['antic' 'world']\n"
     ]
    }
   ],
   "source": [
    "# note sur les chaînes de caractères\n",
    "\n",
    "ts = array([\"hi\", \"world\"])\n",
    "print(ts)\n",
    "ts[0] = \"anticonstitutionnellement\"\n",
    "print(ts)"
   ]
  }
 ],
 "metadata": {
  "kernelspec": {
   "display_name": "Python 3",
   "language": "python",
   "name": "python3"
  },
  "language_info": {
   "codemirror_mode": {
    "name": "ipython",
    "version": 3
   },
   "file_extension": ".py",
   "mimetype": "text/x-python",
   "name": "python",
   "nbconvert_exporter": "python",
   "pygments_lexer": "ipython3",
   "version": "3.6.3"
  }
 },
 "nbformat": 4,
 "nbformat_minor": 2
}
