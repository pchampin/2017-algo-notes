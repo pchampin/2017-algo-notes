{
 "cells": [
  {
   "cell_type": "code",
   "execution_count": 2,
   "metadata": {},
   "outputs": [
    {
     "name": "stdout",
     "output_type": "stream",
     "text": [
      "mois ? 4\n",
      "30\n"
     ]
    }
   ],
   "source": [
    "# étant donné le numéro d'un mois entre 1 et 12,\n",
    "# donner le nombre de jour de ce mois\n",
    "# (pour une année non bissextile).\n",
    "\n",
    "mois = int(input(\"mois ? \"))\n",
    "if mois==4 or mois==6 or mois==9 or mois==11:\n",
    "    jours = 30\n",
    "else:\n",
    "    if mois==2:\n",
    "        jours = 28\n",
    "    else:\n",
    "        # mois est 1,3,5,7,8,10 ou 12\n",
    "        jours = 31\n",
    "print(jours)"
   ]
  },
  {
   "cell_type": "markdown",
   "metadata": {},
   "source": [
    "# Booléens\n",
    "\n",
    "En plus des entiers et flottants, notre langage algorithmique permet de manipuler des booléens (`bool`). Les valeurs booléenes sont `True` et `False`. Les opérateurs sur les booléens sont `and`, `or` et `not`, avec les tables de vérité suivantes :\n",
    "\n",
    "```\n",
    "and | T | F |     or | T | F |     not | T | F |\n",
    "----+---+---⋅     ---+---+---⋅     ----+---+---⋅\n",
    "  T | T | F |      T | T | T |         | F | T |\n",
    "----+---+---⋅     ---+---+---⋅         ⋅---⋅---⋅\n",
    "  F | F | F |      F | T | F |\n",
    "----⋅---⋅---⋅     ---⋅---⋅---⋅\n",
    "```\n",
    "\n",
    "## Opérateurs de comparaisons\n",
    "\n",
    "Les opérateurs de comparaison que nous avons vu précédemment (`==, !=, <, >, <=, >=`) sont en fait des opérateurs de calcul comme les autres, mais produisent des valeurs booléennes, qui peuvent éventuellement être combinées avec les opérateurs booléens vus ci-dessus."
   ]
  },
  {
   "cell_type": "code",
   "execution_count": 5,
   "metadata": {},
   "outputs": [
    {
     "name": "stdout",
     "output_type": "stream",
     "text": [
      "True\n",
      "False\n",
      "True\n"
     ]
    }
   ],
   "source": [
    "x = 10\n",
    "y = 2\n",
    "print(x == 5*y)               # va afficher True\n",
    "print(x < y)                  # va afficher False\n",
    "print(0 <= x  and  x <= 100)  # va afficher True"
   ]
  },
  {
   "cell_type": "markdown",
   "metadata": {},
   "source": [
    "## Ordre de priorité des opérateurs\n",
    "\n",
    "Comme il existe un ordre de priorité entre les opérateurs arithmétiques,\n",
    "il existe un ordre de priorité entre tous les opérateur du langage algorithmique :\n",
    "\n",
    "```\n",
    "* / // %\n",
    "+ -\n",
    "== != < > <= >=\n",
    "not\n",
    "and\n",
    "or\n",
    "```\n",
    "\n",
    "# Exercices"
   ]
  },
  {
   "cell_type": "code",
   "execution_count": 9,
   "metadata": {},
   "outputs": [
    {
     "name": "stdout",
     "output_type": "stream",
     "text": [
      "années ? 2000\n",
      "True\n"
     ]
    }
   ],
   "source": [
    "\"\"\"\n",
    ":entrée année: int\n",
    ":pré-cond: année > 0\n",
    ":sortie bissextile: bool\n",
    ":post-cond: 'bissextile' vaut True ssi 'année' est une année bissextile\n",
    "\"\"\"\n",
    "année = int(input(\"années ? \"))\n",
    "if année % 4 == 0:\n",
    "    if année % 100 == 0:\n",
    "        if année % 400 == 0:\n",
    "            bissextile = True\n",
    "        else:\n",
    "            bissextile = False\n",
    "    else:\n",
    "        bissextile = True\n",
    "else:\n",
    "    bissextile = False\n",
    "print(bissextile)"
   ]
  },
  {
   "cell_type": "code",
   "execution_count": 10,
   "metadata": {},
   "outputs": [
    {
     "name": "stdout",
     "output_type": "stream",
     "text": [
      "années ? 2016\n",
      "True\n"
     ]
    }
   ],
   "source": [
    "# autre version\n",
    "année = int(input(\"années ? \"))\n",
    "if année % 400 == 0:\n",
    "    bissextile = True\n",
    "else:\n",
    "    if année % 100 == 0:\n",
    "        bissextile = False\n",
    "    else:\n",
    "        if année % 4 == 0:\n",
    "            bissextile = True\n",
    "        else:\n",
    "            bissextile = False\n",
    "print(bissextile)"
   ]
  },
  {
   "cell_type": "code",
   "execution_count": 16,
   "metadata": {},
   "outputs": [
    {
     "name": "stdout",
     "output_type": "stream",
     "text": [
      "années ? 2100\n",
      "False\n"
     ]
    }
   ],
   "source": [
    "# autre version\n",
    "année = int(input(\"années ? \"))\n",
    "bissextile = (année % 400 == 0  or  année % 4 == 0 and année % 100 != 0)\n",
    "print(bissextile)"
   ]
  },
  {
   "cell_type": "markdown",
   "metadata": {},
   "source": [
    "# Boucle\n",
    "\n",
    "Dans l'algorithme d'Euclide (pour trouver le PGCD), il faut *répéter* les mêmes instructions plusieurs fois, jusqu'à ce qu'une condition soit vérifiée.\n",
    "\n",
    "Une boucle est consituté :\n",
    "* d'une *condition* introduite par le mot-clé `while`,\n",
    "* d'un *corps* constitué d'une liste d'instructions indentées par rapport au `while`.\n",
    "\n",
    "Chaque fois que l'ordinateur atteint la ligne du `while`,\n",
    "il calcule la condition :\n",
    "* si elle est vraie, il entre dans le corps de la boucle;\n",
    "* sinon il saute immédiatement à la première ligne *après* le corps.\n",
    "\n",
    "Chaque fois que l'ordinateur atteint la dernière ligne du corps,\n",
    "il **remonte** à la ligne du `while`.\n",
    "Ainsi, les instructions du corps de la boucle peuvent, selon le cas,\n",
    "être exécuter zéro, une, ou plusieurs fois."
   ]
  },
  {
   "cell_type": "code",
   "execution_count": 21,
   "metadata": {},
   "outputs": [
    {
     "name": "stdout",
     "output_type": "stream",
     "text": [
      "le plus grand des deux entiers ? 45\n",
      "le plus petit des deux entiers ? 18\n",
      "9\n"
     ]
    }
   ],
   "source": [
    "\"\"\"\n",
    ":entrée a: int\n",
    ":entrée b: int\n",
    ":pré-cond: a ≥ b > 0\n",
    ":sortie pgcd: int\n",
    ":post-cond: pgcd est le plus grand diviseur commun de a et b\n",
    "\"\"\"\n",
    "a = int(input(\"le plus grand des deux entiers ? \"))\n",
    "b = int(input(\"le plus petit des deux entiers ? \"))\n",
    "\n",
    "while b > 0:\n",
    "    reste = a%b\n",
    "    a = b\n",
    "    b = reste\n",
    "pgcd = a\n",
    "print(pgcd)"
   ]
  }
 ],
 "metadata": {
  "kernelspec": {
   "display_name": "Python 3",
   "language": "python",
   "name": "python3"
  },
  "language_info": {
   "codemirror_mode": {
    "name": "ipython",
    "version": 3
   },
   "file_extension": ".py",
   "mimetype": "text/x-python",
   "name": "python",
   "nbconvert_exporter": "python",
   "pygments_lexer": "ipython3",
   "version": "3.5.3"
  }
 },
 "nbformat": 4,
 "nbformat_minor": 2
}
