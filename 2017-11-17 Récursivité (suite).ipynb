{
 "cells": [
  {
   "cell_type": "code",
   "execution_count": 2,
   "metadata": {},
   "outputs": [
    {
     "name": "stdout",
     "output_type": "stream",
     "text": [
      "4\n"
     ]
    }
   ],
   "source": [
    "def compte_chiffres(n):\n",
    "    \"\"\"\n",
    "    :entrée n: int\n",
    "    :pré-cond: n ≥ 0\n",
    "    :sortie nc: int\n",
    "    :post-cond: nc est le nombre de chiffres qu'il faut pour écrire en base 10\n",
    "    \"\"\"\n",
    "    if n < 10:\n",
    "        nc = 1\n",
    "    else:\n",
    "        nc = compte_chiffres(n//10) + 1\n",
    "    return nc\n",
    "\n",
    "print(compte_chiffres(1234))"
   ]
  },
  {
   "cell_type": "code",
   "execution_count": 3,
   "metadata": {},
   "outputs": [
    {
     "name": "stdout",
     "output_type": "stream",
     "text": [
      "2\n",
      "1\n",
      "0\n"
     ]
    }
   ],
   "source": [
    "def compte_char(txt, c):\n",
    "    \"\"\"\n",
    "    :entrée txt, c: str\n",
    "    :pré-cond: len(c) = 1\n",
    "    :sortie nc: int\n",
    "    :post-cond: nc est le nombre d'occurence de c dans txt\n",
    "    \"\"\"\n",
    "    if len(txt) == 0:\n",
    "        nc = 0\n",
    "    else:\n",
    "        nc = compte_char(txt[1:], c)\n",
    "        if txt[0] == c:\n",
    "            nc = nc+1\n",
    "    return nc\n",
    "\n",
    "print(compte_char(\"hello\", \"l\"))\n",
    "print(compte_char(\"hello\", \"e\"))\n",
    "print(compte_char(\"hello\", \"x\"))"
   ]
  },
  {
   "cell_type": "code",
   "execution_count": 6,
   "metadata": {},
   "outputs": [
    {
     "name": "stdout",
     "output_type": "stream",
     "text": [
      "True\n",
      "True\n",
      "False\n"
     ]
    }
   ],
   "source": [
    "def trouve_char(txt, c):\n",
    "    \"\"\"\n",
    "    :entrée txt, c: str\n",
    "    :pré-cond: len(c) = 1\n",
    "    :sortie trouvé: bool\n",
    "    :post-cond: trouvé est True ssi txt contient c\n",
    "    \"\"\"\n",
    "    if len(txt) == 0:\n",
    "        trouvé = False\n",
    "    else:\n",
    "        if txt[0] == c:\n",
    "            trouvé = True\n",
    "        else:\n",
    "            trouvé = trouve_char(txt[1:], c)\n",
    "    return trouvé\n",
    "\n",
    "print(trouve_char(\"hello\", \"l\"))\n",
    "print(trouve_char(\"hello\", \"o\"))\n",
    "print(trouve_char(\"hello\", \"x\"))"
   ]
  },
  {
   "cell_type": "markdown",
   "metadata": {},
   "source": [
    "On peut voir l'algo ci-dessus comme ayant **deux** cas simples :\n",
    " - la chaîne est vide, auquel cas la réponse est False\n",
    " - le premier caractère est c, auquel cas la réponse est True\n",
    "Dans tous les autres cas, on recherche c dans le *reste* de la chaîne.\n",
    "\n",
    "Cet algo est du coup rapide si le caractère est trouvé en début de chaîne.\n",
    "\n",
    "On peut aussi l'écrire comme ci-dessous,\n",
    "car les opérateurs ``and`` et ``or`` en programmation sont *paresseux* :\n",
    "si leur premier argument permet déjà de connaître le résultat final,\n",
    "**ils ne calculent pas** le deuxième argument,\n",
    "économisant ainsi du temps de calcul.\n",
    "\n",
    "NB: le terme \"paresseux\" n'est pas seulement une métaphore,\n",
    "c'est le terme utilisé techniquement pour décrire ce type de méthode."
   ]
  },
  {
   "cell_type": "code",
   "execution_count": 18,
   "metadata": {},
   "outputs": [
    {
     "name": "stdout",
     "output_type": "stream",
     "text": [
      "True\n",
      "True\n",
      "False\n"
     ]
    }
   ],
   "source": [
    "def trouve_char(txt, c):\n",
    "    \"\"\"\n",
    "    :entrée txt, c: str\n",
    "    :pré-cond: len(c) = 1\n",
    "    :sortie trouvé: bool\n",
    "    :post-cond: trouvé est True ssi txt contient c\n",
    "    \"\"\"\n",
    "    if len(txt) == 0:\n",
    "        trouvé = False\n",
    "    else:\n",
    "        trouvé = (txt[0] == c) or trouve_char(txt[1:], c)\n",
    "    return trouvé\n",
    "\n",
    "print(trouve_char(\"hello\", \"l\"))\n",
    "print(trouve_char(\"hello\", \"o\"))\n",
    "print(trouve_char(\"hello\", \"x\"))"
   ]
  }
 ],
 "metadata": {
  "kernelspec": {
   "display_name": "Python 3",
   "language": "python",
   "name": "python3"
  },
  "language_info": {
   "codemirror_mode": {
    "name": "ipython",
    "version": 3
   },
   "file_extension": ".py",
   "mimetype": "text/x-python",
   "name": "python",
   "nbconvert_exporter": "python",
   "pygments_lexer": "ipython3",
   "version": "3.6.3"
  }
 },
 "nbformat": 4,
 "nbformat_minor": 2
}
