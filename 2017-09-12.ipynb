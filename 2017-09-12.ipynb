{
 "cells": [
  {
   "cell_type": "markdown",
   "metadata": {},
   "source": [
    "# Algorithme et problème\n",
    "\n",
    "## Exemples d'algorithme\n",
    "\n",
    "L'[algorithme d'Euclide](https://fr.wikipedia.org/wiki/Algorithme_d%27Euclide)\n",
    "répond aux questions de la forme :\n",
    "\n",
    "> « Quel est le plus grand diviseur commun entre deux entiers positif ? »\n",
    "  \n",
    "Par exemple :\n",
    "\n",
    "  * « Quel est le plus grand diviseur commun entre 14 et 25 ? »\n",
    "  * « Quel est le plus grand diviseur commun entre  9 et 15 ? »\n",
    "  * « Quel est le plus grand diviseur commun entre  1 et 1 ? »\n",
    "\n",
    "mais pas :\n",
    "\n",
    "  * « Quel est le plus grand diviseur commun entre 7 et -14 ? » car 14 n'est pas positif\n",
    "  * « Quel est le plus grand diviseur commun entre 7 et π ? » car π n'est pas entier\n",
    "  * « Quel est le plus petit multiple commun entre 4 et 6 ? » car la question n'a pas la bonne forme\n",
    "\n",
    "\n",
    "La [méthode du discriminant](https://fr.wikipedia.org/wiki/%C3%89quation_du_second_degr%C3%A9#R.C3.A9solution_dans_l.27ensemble_des_r.C3.A9els)\n",
    "\n",
    "> « Combien de racine(s) admet l'équation du second degré ax² + bx + c = 0,\n",
    "> et quelles sont leurs valeurs (le cas échéant) ? »\n",
    "  \n",
    "Par exemple :\n",
    "\n",
    "  * « Combien de racine(s) admet l'équation 3x² - 2x + 8 = 0 ... »\n",
    "  * « Combien de racine(s) admet l'équation  x² + 5x = 0 ... »\n",
    "  * « Combien de racine(s) admet l'équation  x² + πx - √2 = 0 ... »\n",
    "  \n",
    "mais pas :\n",
    "\n",
    "  * « Combien de racine(s) admet l'équation x³ + x² + x + 1 = 0 ... » car elle n'est pas du second degré\n",
    "  * « Combien de racine(s) admet l'équation x + 1 = 0 ... » car elle n'est pas du second degré\n",
    "\n",
    "\n",
    "## Entrées et sorties\n",
    "\n",
    "Tout algorithme est conçu pour répondre à une famille de questions ayant toutes la même forme,\n",
    "comme dans les exemples ci-dessus.\n",
    "\n",
    "La *forme générale* de la question est appelée **classe de problèmes**. Chaque *question spécifique* est appelée **instance de problème**.\n",
    "\n",
    "Pour chaque algorithme, il faut identifier les informations qui permettent de **caractériser** quelle *instance* on cherche à résoudre -- c'est l'information qui distingue chaque instance de toutes les autres.\n",
    "\n",
    "Dans les exemples ci-dessus :\n",
    "\n",
    "* pour l'algorithme d'Euclide, chaque instance est caractérisée par les deux entiers positifs ;\n",
    "* pour la méthode du discriminant, chaque instance est caractérisée par les trois réels a, b et c\n",
    "  (a étant non nul).\n",
    "  \n",
    "On appelle ces informations les **entrées** de l'algorithme.\n",
    "\n",
    "De la même manière, il faut identifier les informations qui constituent la réponse à la question.\n",
    "\n",
    "Dans les exemples ci-desous :\n",
    "* pour l'algorithme d'Euclide, la réponse est un entier positif ;\n",
    "* pour la méthode du discriminant, la réponse est constituée d'un entier compris entre 0 et 2\n",
    "  (le nombre de racines), et jusqu'à deux valeurs réelles (les racines).\n",
    "  \n",
    "On appelle ces informations les **sorties** de l'algorithme.\n"
   ]
  },
  {
   "cell_type": "markdown",
   "metadata": {},
   "source": [
    "# Langage algorithmique"
   ]
  },
  {
   "cell_type": "code",
   "execution_count": 40,
   "metadata": {
    "collapsed": true
   },
   "outputs": [],
   "source": [
    "from math import pi"
   ]
  },
  {
   "cell_type": "markdown",
   "metadata": {},
   "source": [
    "Écrivons l'algorithme qui calcule le périmètre et la surface d'un cercle, étant donné son rayon."
   ]
  },
  {
   "cell_type": "code",
   "execution_count": 42,
   "metadata": {},
   "outputs": [
    {
     "name": "stdout",
     "output_type": "stream",
     "text": [
      "Quel est le rayon ? 1.5\n",
      "Le périmètre est 9.42477796076938\n",
      "La surface est 7.0685834705770345\n"
     ]
    }
   ],
   "source": [
    "# aquisition des entrées au clavier\n",
    "rayon = float(input(\"Quel est le rayon ? \"))\n",
    "\n",
    "# calcul\n",
    "périmètre = 2*pi*rayon\n",
    "surface = pi*rayon*rayon\n",
    "\n",
    "# affichage des sorties à l'écran\n",
    "print(\"Le périmètre est\", périmètre)\n",
    "print(\"La surface est\", surface)\n"
   ]
  },
  {
   "cell_type": "markdown",
   "metadata": {},
   "source": [
    "## Variables\n",
    "\n",
    "Il y a deux manières de voir les variables :\n",
    "\n",
    "* La mémoire de l'ordinateur est une commode.\n",
    "  Chaque variable est un tiroir avec son nom dessus.\n",
    "  Lorsqu'on affecte une valeur à une variable,\n",
    "  on met cette valeur dans le tiroir (en retirant, le cas échéant, la valeur qui y était avant).\n",
    "  \n",
    "* Les valeurs sont présentes dans la mémoire de l'ordinateur.\n",
    "  Chaque variable est une étiquette portant un nom.\n",
    "  Lorsqu'on affecte une valeur à une variable,\n",
    "  on accroche cette étiquette à la valeur correspondante."
   ]
  },
  {
   "cell_type": "code",
   "execution_count": 43,
   "metadata": {},
   "outputs": [
    {
     "name": "stdout",
     "output_type": "stream",
     "text": [
      "42\n"
     ]
    }
   ],
   "source": [
    "x = 42\n",
    "print(x)"
   ]
  },
  {
   "cell_type": "markdown",
   "metadata": {},
   "source": [
    "## Opérations\n",
    "\n",
    "Notre langage algorithmique connaît les 4 opérations arithmétiques (addition, soustraction, multiplication, division). L'opérateur de multiplication s'écrit `*`. L'opérateur de division s'écrit `/`."
   ]
  },
  {
   "cell_type": "code",
   "execution_count": 46,
   "metadata": {},
   "outputs": [
    {
     "name": "stdout",
     "output_type": "stream",
     "text": [
      "43\n"
     ]
    }
   ],
   "source": [
    "print(x+1)"
   ]
  },
  {
   "cell_type": "code",
   "execution_count": 47,
   "metadata": {},
   "outputs": [
    {
     "name": "stdout",
     "output_type": "stream",
     "text": [
      "41\n"
     ]
    }
   ],
   "source": [
    "print(x-1)"
   ]
  },
  {
   "cell_type": "code",
   "execution_count": 50,
   "metadata": {},
   "outputs": [
    {
     "name": "stdout",
     "output_type": "stream",
     "text": [
      "84\n"
     ]
    }
   ],
   "source": [
    "print(x*2)"
   ]
  },
  {
   "cell_type": "code",
   "execution_count": 52,
   "metadata": {},
   "outputs": [
    {
     "name": "stdout",
     "output_type": "stream",
     "text": [
      "4.2\n"
     ]
    }
   ],
   "source": [
    "print(x/10)"
   ]
  },
  {
   "cell_type": "markdown",
   "metadata": {},
   "source": [
    "La proprioté des opérateurs est respectée. On peut utiliser les parenthèses pour forcer l'ordre des calculs, comme en mathématique."
   ]
  },
  {
   "cell_type": "code",
   "execution_count": 55,
   "metadata": {},
   "outputs": [
    {
     "name": "stdout",
     "output_type": "stream",
     "text": [
      "14\n"
     ]
    }
   ],
   "source": [
    "print( 2+3*4 )"
   ]
  },
  {
   "cell_type": "code",
   "execution_count": 56,
   "metadata": {},
   "outputs": [
    {
     "name": "stdout",
     "output_type": "stream",
     "text": [
      "20\n"
     ]
    }
   ],
   "source": [
    "print( (2+3)*4 )"
   ]
  },
  {
   "cell_type": "markdown",
   "metadata": {},
   "source": [
    "### Division euclidienne\n",
    "\n",
    "En plus de la division réelle (`/`),\n",
    "notre langage algorithmique peut également calculer des divisions euclidiennes sur des entiers."
   ]
  },
  {
   "cell_type": "code",
   "execution_count": 60,
   "metadata": {},
   "outputs": [
    {
     "name": "stdout",
     "output_type": "stream",
     "text": [
      "3 2\n"
     ]
    }
   ],
   "source": [
    "quotient, reste = divmod(20, 6)\n",
    "print(quotient, reste)"
   ]
  },
  {
   "cell_type": "code",
   "execution_count": 61,
   "metadata": {},
   "outputs": [
    {
     "name": "stdout",
     "output_type": "stream",
     "text": [
      "3\n",
      "2\n"
     ]
    }
   ],
   "source": [
    "print(20 // 6)  # calcul du quotient uniquement\n",
    "print(20 %  6)  # calcul du reste (\"modulo\") uniquement"
   ]
  },
  {
   "cell_type": "markdown",
   "metadata": {},
   "source": [
    "## Entrées et sorties"
   ]
  },
  {
   "cell_type": "code",
   "execution_count": 62,
   "metadata": {},
   "outputs": [
    {
     "name": "stdout",
     "output_type": "stream",
     "text": [
      "Entrez un entier: 42\n",
      "Entrez un réel: 3.14\n",
      "Vous avez saisi 42 et 3.14\n"
     ]
    }
   ],
   "source": [
    "# entrées\n",
    "\n",
    "i = int(input(\"Entrez un entier: \"))\n",
    "x = float(input(\"Entrez un réel: \"))\n",
    "\n",
    "# sorties\n",
    "\n",
    "print(\"Vous avez saisi\", i, \"et\", x)"
   ]
  },
  {
   "cell_type": "markdown",
   "metadata": {},
   "source": [
    "# Conditions\n",
    "\n",
    "Écrivons l'algorithme qui calcule le nombre de racines d'un polynôme du second degré."
   ]
  },
  {
   "cell_type": "code",
   "execution_count": 64,
   "metadata": {},
   "outputs": [
    {
     "name": "stdout",
     "output_type": "stream",
     "text": [
      "Valeur de a ? 1\n",
      "Valeur de b ? 2\n",
      "Valeur de c ? 3\n",
      "0\n"
     ]
    }
   ],
   "source": [
    "a = float(input(\"Valeur de a ? \"))\n",
    "b = float(input(\"Valeur de b ? \"))\n",
    "c = float(input(\"Valeur de c ? \"))\n",
    "Δ = b*b-4*a*c\n",
    "if Δ < 0:\n",
    "    nb_racines = 0\n",
    "else:\n",
    "    if Δ == 0:  # attention: test d'égalité\n",
    "        nb_racines = 1\n",
    "    else:\n",
    "        # Δ strictement positif\n",
    "        nb_racines = 2\n",
    "print(nb_racines)"
   ]
  }
 ],
 "metadata": {
  "kernelspec": {
   "display_name": "Python 3",
   "language": "python",
   "name": "python3"
  },
  "language_info": {
   "codemirror_mode": {
    "name": "ipython",
    "version": 3
   },
   "file_extension": ".py",
   "mimetype": "text/x-python",
   "name": "python",
   "nbconvert_exporter": "python",
   "pygments_lexer": "ipython3",
   "version": "3.5.3"
  }
 },
 "nbformat": 4,
 "nbformat_minor": 2
}
