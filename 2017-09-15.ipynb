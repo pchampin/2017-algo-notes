{
 "cells": [
  {
   "cell_type": "markdown",
   "metadata": {},
   "source": [
    "# Notion de contrat\n",
    "\n",
    "Un algorithme est caractérisé par :\n",
    "\n",
    "+ ses entrées,\n",
    "+ les **pré-conditions** (les conditions que doivent vérifier les entrées),\n",
    "+ ses sorties,\n",
    "+ les **post-conditions** (les conditions que les sorties doivent vérifier).\n",
    "\n",
    "On appelle ces quatres points le **contrat** de l'algorithme.\n",
    "\n",
    "> Exemple : pour l'algorithme du discriminant,\n",
    "  les pré-conditions stipulent que a, b et c sont des réels, et que a≠0.\n",
    "  Les post-conditions sont que la réponse soit correcte,\n",
    "  c'est à dire que si x₁ et x₂ sont retournées comme valeurs des racines,\n",
    "  ax₁²+bx₁+c et ax²+bx+c soient bien égaux à 0.\n",
    "  \n",
    "Le respect des pré-conditions est la responsabilité de l'utilisateur de l'algorithme\n",
    "(dans notre cas, la personne qui tappe les entrées au clavier).\n",
    "Le respect des post-conditions (donc la correction du résultat)\n",
    "est la responsabilité de l'algorithme.\n",
    "En revanche, comme dans tout contrat,\n",
    "si l'utilisateur ne respecte pas ses engagements,\n",
    "l'algorithme n'est *pas tenu* de respecter les siens.\n",
    "\n",
    "**Il est donc inutile de vérifier si les entrées vérifient les préconditions,\n",
    "et de gérer les cas où elles ne les vérifient pas.**\n",
    "L'algorithme peut, selon le cas, donner une réponse quelconque ou \"planter\"."
   ]
  },
  {
   "cell_type": "markdown",
   "metadata": {},
   "source": [
    "# Affectation / test d'égalité\n",
    "\n",
    "L'utilisation du symbole ``=`` pour l'affectation de variable est assez différente de son utilisation en mathématique. Par exemple, même si l'on écrit :\n"
   ]
  },
  {
   "cell_type": "code",
   "execution_count": 5,
   "metadata": {
    "collapsed": true
   },
   "outputs": [],
   "source": [
    "x = 1"
   ]
  },
  {
   "cell_type": "markdown",
   "metadata": {},
   "source": [
    "cela n'est pas équivalent à\n",
    "```python\n",
    "1 = x\n",
    "```\n",
    "(qui d'ailleurs est incorrect).\n",
    "\n",
    "Par ailleurs, on peut écrire en langage algorithmique:\n"
   ]
  },
  {
   "cell_type": "code",
   "execution_count": 6,
   "metadata": {
    "collapsed": true
   },
   "outputs": [],
   "source": [
    "x = x+1"
   ]
  },
  {
   "cell_type": "markdown",
   "metadata": {},
   "source": [
    "alors que cette affirmation en mathématique n'a pas de sens (aucune valeur de x ne vérifie cette égalité).\n",
    "\n",
    "Lorsqu'on souhaite *savoir* si deux valeurs sont égales,\n",
    "on utilise l'opérateur de comparaison ``==``, qui lui correspond mieux à l'égalité mathématique."
   ]
  },
  {
   "cell_type": "code",
   "execution_count": 7,
   "metadata": {},
   "outputs": [
    {
     "name": "stdout",
     "output_type": "stream",
     "text": [
      "x est bien égal à 2\n"
     ]
    }
   ],
   "source": [
    "if x == 2:\n",
    "    print(\"x est bien égal à 2\")"
   ]
  },
  {
   "cell_type": "markdown",
   "metadata": {},
   "source": [
    "# Tests dans les conditions\n",
    "\n",
    "Dans la condition d'un ``if``, on peut utiliser les opérateurs suivants :\n",
    "```python\n",
    "== # =\n",
    "!= # ≠\n",
    "<\n",
    ">\n",
    "<= # ≤\n",
    ">= # ≥\n",
    "```\n",
    "\n",
    "on peut combiner plusieurs tests avec les opérateurs logiques:\n",
    "```python\n",
    "and\n",
    "or\n",
    "```\n",
    "\n",
    "Exemple :"
   ]
  },
  {
   "cell_type": "code",
   "execution_count": 8,
   "metadata": {},
   "outputs": [
    {
     "name": "stdout",
     "output_type": "stream",
     "text": [
      "x est compris entre 1 et 10\n"
     ]
    }
   ],
   "source": [
    "if x>=1 and x<=10:\n",
    "    print(\"x est compris entre 1 et 10\")\n"
   ]
  },
  {
   "cell_type": "code",
   "execution_count": 9,
   "metadata": {
    "collapsed": true
   },
   "outputs": [],
   "source": [
    "# Pour la prochaine fois, écrire l'algorithme qui,\n",
    "\n",
    "# étant donné le numéro d'un mois entre 1 et 12,\n",
    "# donner le nombre de jour de ce mois\n",
    "# (pour une année non bissextile).\n"
   ]
  }
 ],
 "metadata": {
  "kernelspec": {
   "display_name": "Python 3",
   "language": "python",
   "name": "python3"
  },
  "language_info": {
   "codemirror_mode": {
    "name": "ipython",
    "version": 3
   },
   "file_extension": ".py",
   "mimetype": "text/x-python",
   "name": "python",
   "nbconvert_exporter": "python",
   "pygments_lexer": "ipython3",
   "version": "3.5.3"
  }
 },
 "nbformat": 4,
 "nbformat_minor": 2
}
