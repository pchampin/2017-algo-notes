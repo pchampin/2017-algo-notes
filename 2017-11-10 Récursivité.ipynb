{
 "cells": [
  {
   "cell_type": "markdown",
   "metadata": {},
   "source": [
    "# Révisions sur les traces"
   ]
  },
  {
   "cell_type": "code",
   "execution_count": 6,
   "metadata": {},
   "outputs": [],
   "source": [
    "def puissance(x, n):\n",
    "    \"\"\"\n",
    "    :entrée x: float\n",
    "    :entrée n: int\n",
    "    :pré-cond: n ≥ 0\n",
    "    :sortie s: float\n",
    "    :post-cond: s = x^n\n",
    "    \"\"\"\n",
    "    s = 1\n",
    "    while n > 0:\n",
    "        s = s*x\n",
    "        n = n-1\n",
    "    return s"
   ]
  },
  {
   "cell_type": "raw",
   "metadata": {},
   "source": [
    "Trace 1:\n",
    "#9  x = 2.0  n = 4  s = ?\n",
    "#10 x = 2.0  n = 4  s = 1\n",
    "#10 x = 2.0  n = 3  s = 2.0\n",
    "#10 x = 2.0  n = 2  s = 4.0\n",
    "#10 x = 2.0  n = 1  s = 8.0\n",
    "#10 x = 2.0  n = 0  s = 16.0\n",
    "#13 x = 2.0  n = 0  s = 16.0\n",
    "\n",
    "Trace 2:\n",
    "#9  x = 3.0  n = 3  s = ?\n",
    "#10 x = 3.0  n = 3  s = 1\n",
    "#10 x = 3.0  n = 2  s = 3.0\n",
    "#10 x = 3.0  n = 1  s = 9.0\n",
    "#10 x = 3.0  n = 0  s = 27.0\n",
    "#13 x = 3.0  n = 0  s = 27.0"
   ]
  },
  {
   "cell_type": "code",
   "execution_count": 4,
   "metadata": {},
   "outputs": [],
   "source": [
    "def somme_puissances(x, n):\n",
    "    \"\"\"\n",
    "    :entrée x: float\n",
    "    :entrée n: int\n",
    "    :pré-cond: n ≥ 0\n",
    "    :sortie s: float\n",
    "    :post-cond: x^1 + x^2 + ... + x^n\n",
    "    \"\"\"\n",
    "    i = 1\n",
    "    s = 0\n",
    "    while i <= n:\n",
    "        s = s + puissance(x, i)\n",
    "        i = i+1\n",
    "    return s\n"
   ]
  },
  {
   "cell_type": "raw",
   "metadata": {},
   "source": [
    "Trace:\n",
    "#9  x = 2.0  n = 3  i = ?  s = ?\n",
    "#11 x = 2.0  n = 3  i = 1  s = 0\n",
    "#12 puissance(x,i)\n",
    "    #9  x = 2.0  n = 1  s = ?\n",
    "    #10 x = 2.0  n = 1  s = 1\n",
    "    #10 x = 2.0  n = 0  s = 2.0\n",
    "    #13 x = 2.0  n = 0  s = 2.0\n",
    "#11 x = 2.0  n = 3  i = 2  s = 2.0\n",
    "#12 puissance(x,i)\n",
    "    #9  x = 2.0  n = 2  s = ?\n",
    "    #10 x = 2.0  n = 2  s = 1\n",
    "    #10 x = 2.0  n = 1  s = 2.0\n",
    "    #10 x = 2.0  n = 0  s = 4.0\n",
    "    #13 x = 2.0  n = 0  s = 4.0\n",
    "#11 x = 2.0  n = 3  i = 3  s = 6.0\n",
    "#12 puissance(x,i)\n",
    "    #9  x = 2.0  n = 3  s = ?\n",
    "    #10 x = 2.0  n = 3  s = 1\n",
    "    #10 x = 2.0  n = 2  s = 2.0\n",
    "    #10 x = 2.0  n = 1  s = 4.0\n",
    "    #10 x = 2.0  n = 0  s = 8.0\n",
    "    #13 x = 2.0  n = 0  s = 8.0\n",
    "#11 x = 2.0  n = 3  i = 4  s = 14.0\n",
    "#14 x = 2.0  n = 3  i = 4  s = 14.0"
   ]
  },
  {
   "cell_type": "markdown",
   "metadata": {},
   "source": [
    "L'algo ``somme_puissances`` ci-dessus peut s'écrire de manière plus efficace, sans re-calculer $x^n$ à partir de zéro à chaque itération."
   ]
  },
  {
   "cell_type": "code",
   "execution_count": 12,
   "metadata": {},
   "outputs": [],
   "source": [
    "def somme_puissances(x, n):\n",
    "    \"\"\"\n",
    "    :entrée x: float\n",
    "    :entrée n: int\n",
    "    :pré-cond: n ≥ 0\n",
    "    :sortie s: float\n",
    "    :post-cond: x^1 + x^2 + ... + x^n\n",
    "    \"\"\"\n",
    "    i = 1\n",
    "    p = x  # a tout moment, p = x^i\n",
    "    s = 0\n",
    "    while i <= n:\n",
    "        s = s+p\n",
    "        p = p*x\n",
    "        i = i+1\n",
    "    return s"
   ]
  },
  {
   "cell_type": "raw",
   "metadata": {},
   "source": [
    "Trace: \n",
    "#9  x = 2.0  n = 3  i = ?  p = ?     s = ?\n",
    "#12 x = 2.0  n = 3  i = 1  p = 2.0   s = 0\n",
    "#12 x = 2.0  n = 3  i = 2  p = 4.0   s = 2.0\n",
    "#12 x = 2.0  n = 3  i = 3  p = 8.0   s = 6.0\n",
    "#12 x = 2.0  n = 3  i = 4  p = 16.0  s = 14.0\n",
    "#16 x = 2.0  n = 3  i = 4  p = 16.0  s = 14.0"
   ]
  },
  {
   "cell_type": "markdown",
   "metadata": {},
   "source": [
    "# Récursivité\n",
    "\n",
    "Exemple de définition récursive :\n",
    "\n",
    "$$\n",
    "x^n = \n",
    "\\left\\{\n",
    "\\begin{array}{lr}\n",
    "    1         & \\text{si } n=0 \\\\\n",
    "    x×x^{n-1} & \\text{si } n>0 \\\\\n",
    "\\end{array}\n",
    "\\right .\n",
    "$$\n",
    "\n",
    "D'où on peut déduire :\n",
    "* $x^0 = 1$ par définition\n",
    "* $x^1 = x×x^0 = x×1 = x$\n",
    "* $x^2 = x×x^1 = x×x$\n",
    "* $x^3 = x×x^2 = x×x×x$\n",
    "* etc...\n",
    "\n",
    "Application directe de la définition en langage algorithmique :"
   ]
  },
  {
   "cell_type": "code",
   "execution_count": 14,
   "metadata": {},
   "outputs": [],
   "source": [
    "def puissance(x, n):\n",
    "    \"\"\"\n",
    "    :entrée x: float\n",
    "    :entrée n: int\n",
    "    :pré-cond: n ≥ 0\n",
    "    :sortie s: float\n",
    "    :post-cond: s = x^n\n",
    "    \"\"\"\n",
    "    if n == 0:\n",
    "        s = 1\n",
    "    else:\n",
    "        s = x * puissance(x, n-1)\n",
    "    return s"
   ]
  },
  {
   "cell_type": "raw",
   "metadata": {},
   "source": [
    "Trace:\n",
    "#9  x = 2.0  n = 3  s = ?\n",
    "#12 puissance(x, n-1)\n",
    "    #9  x = 2.0  n = 2  s = ?\n",
    "    #12  puissance(x, n-1)\n",
    "        #9  x = 2.0  n = 1  s = ?\n",
    "        #12  puissance(x, n-1)\n",
    "            #9  x = 2.0  n = 0  s = ?\n",
    "            #13 x = 2.0  n = 0  s = 1\n",
    "        #13  x = 2.0  n = 1  s = 2.0\n",
    "    #13  x = 2.0  n = 2  s = 4.0\n",
    "#13 x = 2.0  n = 3  s = 8.0"
   ]
  },
  {
   "cell_type": "markdown",
   "metadata": {},
   "source": [
    "Autre exemple, la factorielle :\n",
    "\n",
    "$$\n",
    "n! = \n",
    "\\left\\{\n",
    "\\begin{array}{lr}\n",
    "    1        & \\text{si } n=0 \\\\\n",
    "    (n-1)!×n & \\text{si } n>0 \\\\\n",
    "\\end{array}\n",
    "\\right .\n",
    "$$\n",
    "\n",
    "D'où on peut déduire :\n",
    "* $0! = 1$ par définition\n",
    "* $1! = 0!×1 = 1×1 = 1$\n",
    "* $2! = 1!×2 = 1×2$\n",
    "* $3! = 2!×3 = 1×2×3$\n",
    "* $4! = 3!×4 = 1×2×3×4$\n",
    "* etc...\n",
    "\n",
    "Application directe de la définition en langage algorithmique :"
   ]
  },
  {
   "cell_type": "code",
   "execution_count": 2,
   "metadata": {},
   "outputs": [
    {
     "name": "stdout",
     "output_type": "stream",
     "text": [
      "120\n"
     ]
    }
   ],
   "source": [
    "def fact(n):\n",
    "    \"\"\"\n",
    "    :entrée n: int\n",
    "    :pré-cond: n ≥ 0\n",
    "    :sortie f: int\n",
    "    :post-cond: f = n!\n",
    "    \"\"\"\n",
    "    if n == 0:\n",
    "        f = 1\n",
    "    else:\n",
    "        f = n*fact(n-1)\n",
    "    return f\n",
    "\n",
    "print(fact(5))"
   ]
  }
 ],
 "metadata": {
  "kernelspec": {
   "display_name": "Python 3",
   "language": "python",
   "name": "python3"
  },
  "language_info": {
   "codemirror_mode": {
    "name": "ipython",
    "version": 3
   },
   "file_extension": ".py",
   "mimetype": "text/x-python",
   "name": "python",
   "nbconvert_exporter": "python",
   "pygments_lexer": "ipython3",
   "version": "3.6.3"
  }
 },
 "nbformat": 4,
 "nbformat_minor": 2
}
